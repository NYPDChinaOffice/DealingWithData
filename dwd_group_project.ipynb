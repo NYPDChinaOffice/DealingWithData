{
  "cells": [
    {
      "cell_type": "code",
<<<<<<< HEAD
      "execution_count": null,
=======
      "source": [
        "import warnings\n",
        "warnings.filterwarnings(\"ignore\")"
      ],
      "metadata": {
        "id": "DPuozTcfP5mF"
      },
      "execution_count": 1,
      "outputs": []
    },
    {
      "cell_type": "code",
      "source": [
        "#get the original dataset\n",
        "import pandas as pd\n",
        "dataset = pd.read_csv(\"new_data.csv\")\n",
        "dataset.head()"
      ],
>>>>>>> 2d6f55a7866c52a1c654023077dd9270487ac5a9
      "metadata": {
        "colab": {
          "base_uri": "https://localhost:8080/",
          "height": 461
        },
<<<<<<< HEAD
        "id": "dLN9ND4O4cKy",
        "outputId": "201fa106-7bdc-4f7b-9fba-b36bc4446148"
      },
      "outputs": [],
      "source": [
        "#get the original dataset\n",
        "import pandas as pd\n",
        "dataset = pd.read_csv(\"new_data.csv\")\n",
        "dataset.head()"
=======
        "outputId": "db4135b2-ba1e-4fe7-8062-c2b378d89b4a"
      },
      "execution_count": 2,
      "outputs": [
        {
          "output_type": "execute_result",
          "data": {
            "text/plain": [
              "   index  ARREST_KEY ARREST_DATE  PD_CD      PD_DESC  KY_CD   OFNS_DESC  \\\n",
              "0      0   238013474  12/18/2021    157       RAPE 1    104        RAPE   \n",
              "1      1   236943583  11/25/2021    263  ARSON 2,3,4    114       ARSON   \n",
              "2      2   234938876  10/14/2021    594  OBSCENITY 1    116  SEX CRIMES   \n",
              "3      3   234788259  10/11/2021    263  ARSON 2,3,4    114       ARSON   \n",
              "4      5   234117071  09/27/2021    157       RAPE 1    104        RAPE   \n",
              "\n",
              "     LAW_CODE LAW_CAT_CD ARREST_BORO  ARREST_PRECINCT  JURISDICTION_CODE  \\\n",
              "0  PL 1303501          F           Q              105                 97   \n",
              "1  PL 1501500          F           K               69                 71   \n",
              "2  PL 2631100          F           K               61                  0   \n",
              "3  PL 1501001          F           B               42                 71   \n",
              "4  PL 1303501          F           K               84                  0   \n",
              "\n",
              "  AGE_GROUP PERP_SEX PERP_RACE  X_COORD_CD  Y_COORD_CD   Latitude  Longitude  \\\n",
              "0     18-24        M     BLACK     1057636      203954  40.726187 -73.735234   \n",
              "1     25-44        M     BLACK     1014340      171320  40.636868 -73.891586   \n",
              "2     25-44        M     WHITE      995244      155739  40.594145 -73.960415   \n",
              "3     18-24        M     BLACK     1009058      239616  40.824340 -73.910365   \n",
              "4     25-44        M     BLACK      989013      192652  40.695469 -73.982825   \n",
              "\n",
              "                       New Georeferenced Column  \n",
              "0  POINT (-73.73523390399998 40.72618713000002)  \n",
              "1  POINT (-73.89158591899997 40.63686750900007)  \n",
              "2  POINT (-73.96041495199995 40.59414516900005)  \n",
              "3  POINT (-73.91036538099996 40.82433953100008)  \n",
              "4  POINT (-73.98282507899995 40.69546894100006)  "
            ],
            "text/html": [
              "\n",
              "  <div id=\"df-a5ee3119-b8b5-4900-832a-f3651436697c\">\n",
              "    <div class=\"colab-df-container\">\n",
              "      <div>\n",
              "<style scoped>\n",
              "    .dataframe tbody tr th:only-of-type {\n",
              "        vertical-align: middle;\n",
              "    }\n",
              "\n",
              "    .dataframe tbody tr th {\n",
              "        vertical-align: top;\n",
              "    }\n",
              "\n",
              "    .dataframe thead th {\n",
              "        text-align: right;\n",
              "    }\n",
              "</style>\n",
              "<table border=\"1\" class=\"dataframe\">\n",
              "  <thead>\n",
              "    <tr style=\"text-align: right;\">\n",
              "      <th></th>\n",
              "      <th>index</th>\n",
              "      <th>ARREST_KEY</th>\n",
              "      <th>ARREST_DATE</th>\n",
              "      <th>PD_CD</th>\n",
              "      <th>PD_DESC</th>\n",
              "      <th>KY_CD</th>\n",
              "      <th>OFNS_DESC</th>\n",
              "      <th>LAW_CODE</th>\n",
              "      <th>LAW_CAT_CD</th>\n",
              "      <th>ARREST_BORO</th>\n",
              "      <th>ARREST_PRECINCT</th>\n",
              "      <th>JURISDICTION_CODE</th>\n",
              "      <th>AGE_GROUP</th>\n",
              "      <th>PERP_SEX</th>\n",
              "      <th>PERP_RACE</th>\n",
              "      <th>X_COORD_CD</th>\n",
              "      <th>Y_COORD_CD</th>\n",
              "      <th>Latitude</th>\n",
              "      <th>Longitude</th>\n",
              "      <th>New Georeferenced Column</th>\n",
              "    </tr>\n",
              "  </thead>\n",
              "  <tbody>\n",
              "    <tr>\n",
              "      <th>0</th>\n",
              "      <td>0</td>\n",
              "      <td>238013474</td>\n",
              "      <td>12/18/2021</td>\n",
              "      <td>157</td>\n",
              "      <td>RAPE 1</td>\n",
              "      <td>104</td>\n",
              "      <td>RAPE</td>\n",
              "      <td>PL 1303501</td>\n",
              "      <td>F</td>\n",
              "      <td>Q</td>\n",
              "      <td>105</td>\n",
              "      <td>97</td>\n",
              "      <td>18-24</td>\n",
              "      <td>M</td>\n",
              "      <td>BLACK</td>\n",
              "      <td>1057636</td>\n",
              "      <td>203954</td>\n",
              "      <td>40.726187</td>\n",
              "      <td>-73.735234</td>\n",
              "      <td>POINT (-73.73523390399998 40.72618713000002)</td>\n",
              "    </tr>\n",
              "    <tr>\n",
              "      <th>1</th>\n",
              "      <td>1</td>\n",
              "      <td>236943583</td>\n",
              "      <td>11/25/2021</td>\n",
              "      <td>263</td>\n",
              "      <td>ARSON 2,3,4</td>\n",
              "      <td>114</td>\n",
              "      <td>ARSON</td>\n",
              "      <td>PL 1501500</td>\n",
              "      <td>F</td>\n",
              "      <td>K</td>\n",
              "      <td>69</td>\n",
              "      <td>71</td>\n",
              "      <td>25-44</td>\n",
              "      <td>M</td>\n",
              "      <td>BLACK</td>\n",
              "      <td>1014340</td>\n",
              "      <td>171320</td>\n",
              "      <td>40.636868</td>\n",
              "      <td>-73.891586</td>\n",
              "      <td>POINT (-73.89158591899997 40.63686750900007)</td>\n",
              "    </tr>\n",
              "    <tr>\n",
              "      <th>2</th>\n",
              "      <td>2</td>\n",
              "      <td>234938876</td>\n",
              "      <td>10/14/2021</td>\n",
              "      <td>594</td>\n",
              "      <td>OBSCENITY 1</td>\n",
              "      <td>116</td>\n",
              "      <td>SEX CRIMES</td>\n",
              "      <td>PL 2631100</td>\n",
              "      <td>F</td>\n",
              "      <td>K</td>\n",
              "      <td>61</td>\n",
              "      <td>0</td>\n",
              "      <td>25-44</td>\n",
              "      <td>M</td>\n",
              "      <td>WHITE</td>\n",
              "      <td>995244</td>\n",
              "      <td>155739</td>\n",
              "      <td>40.594145</td>\n",
              "      <td>-73.960415</td>\n",
              "      <td>POINT (-73.96041495199995 40.59414516900005)</td>\n",
              "    </tr>\n",
              "    <tr>\n",
              "      <th>3</th>\n",
              "      <td>3</td>\n",
              "      <td>234788259</td>\n",
              "      <td>10/11/2021</td>\n",
              "      <td>263</td>\n",
              "      <td>ARSON 2,3,4</td>\n",
              "      <td>114</td>\n",
              "      <td>ARSON</td>\n",
              "      <td>PL 1501001</td>\n",
              "      <td>F</td>\n",
              "      <td>B</td>\n",
              "      <td>42</td>\n",
              "      <td>71</td>\n",
              "      <td>18-24</td>\n",
              "      <td>M</td>\n",
              "      <td>BLACK</td>\n",
              "      <td>1009058</td>\n",
              "      <td>239616</td>\n",
              "      <td>40.824340</td>\n",
              "      <td>-73.910365</td>\n",
              "      <td>POINT (-73.91036538099996 40.82433953100008)</td>\n",
              "    </tr>\n",
              "    <tr>\n",
              "      <th>4</th>\n",
              "      <td>5</td>\n",
              "      <td>234117071</td>\n",
              "      <td>09/27/2021</td>\n",
              "      <td>157</td>\n",
              "      <td>RAPE 1</td>\n",
              "      <td>104</td>\n",
              "      <td>RAPE</td>\n",
              "      <td>PL 1303501</td>\n",
              "      <td>F</td>\n",
              "      <td>K</td>\n",
              "      <td>84</td>\n",
              "      <td>0</td>\n",
              "      <td>25-44</td>\n",
              "      <td>M</td>\n",
              "      <td>BLACK</td>\n",
              "      <td>989013</td>\n",
              "      <td>192652</td>\n",
              "      <td>40.695469</td>\n",
              "      <td>-73.982825</td>\n",
              "      <td>POINT (-73.98282507899995 40.69546894100006)</td>\n",
              "    </tr>\n",
              "  </tbody>\n",
              "</table>\n",
              "</div>\n",
              "      <button class=\"colab-df-convert\" onclick=\"convertToInteractive('df-a5ee3119-b8b5-4900-832a-f3651436697c')\"\n",
              "              title=\"Convert this dataframe to an interactive table.\"\n",
              "              style=\"display:none;\">\n",
              "        \n",
              "  <svg xmlns=\"http://www.w3.org/2000/svg\" height=\"24px\"viewBox=\"0 0 24 24\"\n",
              "       width=\"24px\">\n",
              "    <path d=\"M0 0h24v24H0V0z\" fill=\"none\"/>\n",
              "    <path d=\"M18.56 5.44l.94 2.06.94-2.06 2.06-.94-2.06-.94-.94-2.06-.94 2.06-2.06.94zm-11 1L8.5 8.5l.94-2.06 2.06-.94-2.06-.94L8.5 2.5l-.94 2.06-2.06.94zm10 10l.94 2.06.94-2.06 2.06-.94-2.06-.94-.94-2.06-.94 2.06-2.06.94z\"/><path d=\"M17.41 7.96l-1.37-1.37c-.4-.4-.92-.59-1.43-.59-.52 0-1.04.2-1.43.59L10.3 9.45l-7.72 7.72c-.78.78-.78 2.05 0 2.83L4 21.41c.39.39.9.59 1.41.59.51 0 1.02-.2 1.41-.59l7.78-7.78 2.81-2.81c.8-.78.8-2.07 0-2.86zM5.41 20L4 18.59l7.72-7.72 1.47 1.35L5.41 20z\"/>\n",
              "  </svg>\n",
              "      </button>\n",
              "      \n",
              "  <style>\n",
              "    .colab-df-container {\n",
              "      display:flex;\n",
              "      flex-wrap:wrap;\n",
              "      gap: 12px;\n",
              "    }\n",
              "\n",
              "    .colab-df-convert {\n",
              "      background-color: #E8F0FE;\n",
              "      border: none;\n",
              "      border-radius: 50%;\n",
              "      cursor: pointer;\n",
              "      display: none;\n",
              "      fill: #1967D2;\n",
              "      height: 32px;\n",
              "      padding: 0 0 0 0;\n",
              "      width: 32px;\n",
              "    }\n",
              "\n",
              "    .colab-df-convert:hover {\n",
              "      background-color: #E2EBFA;\n",
              "      box-shadow: 0px 1px 2px rgba(60, 64, 67, 0.3), 0px 1px 3px 1px rgba(60, 64, 67, 0.15);\n",
              "      fill: #174EA6;\n",
              "    }\n",
              "\n",
              "    [theme=dark] .colab-df-convert {\n",
              "      background-color: #3B4455;\n",
              "      fill: #D2E3FC;\n",
              "    }\n",
              "\n",
              "    [theme=dark] .colab-df-convert:hover {\n",
              "      background-color: #434B5C;\n",
              "      box-shadow: 0px 1px 3px 1px rgba(0, 0, 0, 0.15);\n",
              "      filter: drop-shadow(0px 1px 2px rgba(0, 0, 0, 0.3));\n",
              "      fill: #FFFFFF;\n",
              "    }\n",
              "  </style>\n",
              "\n",
              "      <script>\n",
              "        const buttonEl =\n",
              "          document.querySelector('#df-a5ee3119-b8b5-4900-832a-f3651436697c button.colab-df-convert');\n",
              "        buttonEl.style.display =\n",
              "          google.colab.kernel.accessAllowed ? 'block' : 'none';\n",
              "\n",
              "        async function convertToInteractive(key) {\n",
              "          const element = document.querySelector('#df-a5ee3119-b8b5-4900-832a-f3651436697c');\n",
              "          const dataTable =\n",
              "            await google.colab.kernel.invokeFunction('convertToInteractive',\n",
              "                                                     [key], {});\n",
              "          if (!dataTable) return;\n",
              "\n",
              "          const docLinkHtml = 'Like what you see? Visit the ' +\n",
              "            '<a target=\"_blank\" href=https://colab.research.google.com/notebooks/data_table.ipynb>data table notebook</a>'\n",
              "            + ' to learn more about interactive tables.';\n",
              "          element.innerHTML = '';\n",
              "          dataTable['output_type'] = 'display_data';\n",
              "          await google.colab.output.renderOutput(dataTable, element);\n",
              "          const docLink = document.createElement('div');\n",
              "          docLink.innerHTML = docLinkHtml;\n",
              "          element.appendChild(docLink);\n",
              "        }\n",
              "      </script>\n",
              "    </div>\n",
              "  </div>\n",
              "  "
            ]
          },
          "metadata": {},
          "execution_count": 2
        }
>>>>>>> 2d6f55a7866c52a1c654023077dd9270487ac5a9
      ]
    },
    {
      "cell_type": "markdown",
      "metadata": {
        "id": "iI81KHu6_iIV"
      },
      "source": [
        "Get all the precinct number"
      ]
    },
    {
      "cell_type": "code",
      "execution_count": null,
      "metadata": {
        "colab": {
          "base_uri": "https://localhost:8080/"
        },
        "id": "4o80zIyn4cU2",
        "outputId": "be0510c2-b366-4758-fcb9-36bb7df428a1"
      },
      "outputs": [
        {
          "name": "stdout",
          "output_type": "stream",
          "text": [
            "[1, 5, 6, 7, 9, 10, 13, 14, 17, 18, 19, 20, 22, 23, 24, 25, 26, 28, 30, 32, 33, 34, 40, 41, 42, 43, 44, 45, 46, 47, 48, 49, 50, 52, 60, 61, 62, 63, 66, 67, 68, 69, 70, 71, 72, 73, 75, 76, 77, 78, 79, 81, 83, 84, 88, 90, 94, 100, 101, 102, 103, 104, 105, 106, 107, 108, 109, 110, 111, 112, 113, 114, 115, 120, 121, 122, 123]\n"
          ]
        }
      ],
      "source": [
        "#get precinct number\n",
        "precinct_number = []\n",
        "for i in range(0,len(dataset)):\n",
        "  #if the number not in precinct_number, then append to this list\n",
        "  if dataset[\"ARREST_PRECINCT\"][i] not in precinct_number:\n",
        "    precinct_number.append(dataset[\"ARREST_PRECINCT\"][i])\n",
        "  #if in, then move to next number\n",
        "  else:\n",
        "    continue\n",
        "#sort the numbers in list from small to large\n",
        "precinct_number.sort()\n",
        "print(precinct_number)"
<<<<<<< HEAD
=======
      ],
      "metadata": {
        "id": "4o80zIyn4cU2",
        "colab": {
          "base_uri": "https://localhost:8080/"
        },
        "outputId": "fb923b4e-9fe0-44ca-d52f-ec412207ddb0"
      },
      "execution_count": 3,
      "outputs": [
        {
          "output_type": "stream",
          "name": "stdout",
          "text": [
            "[1, 5, 6, 7, 9, 10, 13, 14, 17, 18, 19, 20, 22, 23, 24, 25, 26, 28, 30, 32, 33, 34, 40, 41, 42, 43, 44, 45, 46, 47, 48, 49, 50, 52, 60, 61, 62, 63, 66, 67, 68, 69, 70, 71, 72, 73, 75, 76, 77, 78, 79, 81, 83, 84, 88, 90, 94, 100, 101, 102, 103, 104, 105, 106, 107, 108, 109, 110, 111, 112, 113, 114, 115, 120, 121, 122, 123]\n"
          ]
        }
>>>>>>> 2d6f55a7866c52a1c654023077dd9270487ac5a9
      ]
    },
    {
      "cell_type": "markdown",
      "metadata": {
        "id": "961QP9x9_o69"
      },
      "source": [
        "Set all the crime types to 6 types:\n",
        "\n",
        "\"FELONY\",\"LARCENY\",\"MURDER\",\"RAPE\",\"ROBBERY\",\"OTHERS\""
      ]
    },
    {
      "cell_type": "code",
      "execution_count": null,
      "metadata": {
        "colab": {
          "base_uri": "https://localhost:8080/"
        },
<<<<<<< HEAD
        "id": "jC4bBvZv_gMC",
        "outputId": "bb7b65fd-7b43-4257-e73d-314a038bc136"
      },
=======
        "outputId": "41f1895c-3fd8-4040-df4a-358fa333cf7c"
      },
      "execution_count": 4,
>>>>>>> 2d6f55a7866c52a1c654023077dd9270487ac5a9
      "outputs": [
        {
          "name": "stdout",
          "output_type": "stream",
          "text": [
            "         index  ARREST_KEY ARREST_DATE  PD_CD                         PD_DESC  \\\n",
            "0            0   238013474  12/18/2021    157                          RAPE 1   \n",
            "1            1   236943583  11/25/2021    263                     ARSON 2,3,4   \n",
            "2            2   234938876  10/14/2021    594                     OBSCENITY 1   \n",
            "3            3   234788259  10/11/2021    263                     ARSON 2,3,4   \n",
            "4            5   234117071  09/27/2021    157                          RAPE 1   \n",
            "...        ...         ...         ...    ...                             ...   \n",
            "154006  155502   222884924  01/10/2021    397  ROBBERY,OPEN AREA UNCLASSIFIED   \n",
            "154007  155503   223918625  02/03/2021    792        WEAPONS POSSESSION 1 & 2   \n",
            "154008  155504   224323770  02/13/2021    101                       ASSAULT 3   \n",
            "154009  155505   222599533  01/04/2021    792        WEAPONS POSSESSION 1 & 2   \n",
            "154010  155506   224056881  02/06/2021    268              CRIMINAL MIS 2 & 3   \n",
            "\n",
            "        KY_CD OFNS_DESC    LAW_CODE LAW_CAT_CD ARREST_BORO  ARREST_PRECINCT  \\\n",
            "0         104      RAPE  PL 1303501          F           Q              105   \n",
            "1         114    OTHERS  PL 1501500          F           K               69   \n",
            "2         116    OTHERS  PL 2631100          F           K               61   \n",
            "3         114    OTHERS  PL 1501001          F           B               42   \n",
            "4         104      RAPE  PL 1303501          F           K               84   \n",
            "...       ...       ...         ...        ...         ...              ...   \n",
            "154006    105   ROBBERY  PL 1601001          F           B               46   \n",
            "154007    118    OTHERS  PL 2650303          F           K               67   \n",
            "154008    344    OTHERS  PL 1200001          M           S              121   \n",
            "154009    118    OTHERS  PL 2650303          F           K               73   \n",
            "154010    121    OTHERS  PL 1451000          F           Q              102   \n",
            "\n",
            "        JURISDICTION_CODE AGE_GROUP PERP_SEX                 PERP_RACE  \\\n",
            "0                      97     18-24        M                     BLACK   \n",
            "1                      71     25-44        M                     BLACK   \n",
            "2                       0     25-44        M                     WHITE   \n",
            "3                      71     18-24        M                     BLACK   \n",
            "4                       0     25-44        M                     BLACK   \n",
            "...                   ...       ...      ...                       ...   \n",
            "154006                  0     45-64        M                     BLACK   \n",
            "154007                  0     18-24        M                     BLACK   \n",
            "154008                  0     45-64        M                     BLACK   \n",
            "154009                  0     25-44        M                     BLACK   \n",
            "154010                  0     18-24        M  ASIAN / PACIFIC ISLANDER   \n",
            "\n",
            "        X_COORD_CD  Y_COORD_CD   Latitude  Longitude  \\\n",
            "0          1057636      203954  40.726187 -73.735234   \n",
            "1          1014340      171320  40.636868 -73.891586   \n",
            "2           995244      155739  40.594145 -73.960415   \n",
            "3          1009058      239616  40.824340 -73.910365   \n",
            "4           989013      192652  40.695469 -73.982825   \n",
            "...            ...         ...        ...        ...   \n",
            "154006     1011432      247605  40.846260 -73.901755   \n",
            "154007     1004940      180941  40.663302 -73.925425   \n",
            "154008      942825      166367  40.623227 -74.149227   \n",
            "154009     1007524      188555  40.684194 -73.916085   \n",
            "154010     1031414      190787  40.690226 -73.829932   \n",
            "\n",
            "                             New Georeferenced Column  \n",
            "0        POINT (-73.73523390399998 40.72618713000002)  \n",
            "1        POINT (-73.89158591899997 40.63686750900007)  \n",
            "2        POINT (-73.96041495199995 40.59414516900005)  \n",
            "3        POINT (-73.91036538099996 40.82433953100008)  \n",
            "4        POINT (-73.98282507899995 40.69546894100006)  \n",
            "...                                               ...  \n",
            "154006  POINT (-73.90175529499999 40.846260031000035)  \n",
            "154007   POINT (-73.92542497899994 40.66330200400005)  \n",
            "154008  POINT (-74.14922697299994 40.623226819000074)  \n",
            "154009  POINT (-73.91608474599997 40.684194302000044)  \n",
            "154010   POINT (-73.82993153599993 40.69022556600004)  \n",
            "\n",
            "[154011 rows x 20 columns]\n"
          ]
        }
      ],
      "source": [
        "#Set up six crime types\n",
        "for j in range(0,len(dataset)):\n",
        "  if \"FELONY\" in dataset[\"OFNS_DESC\"][j]:\n",
        "    dataset[\"OFNS_DESC\"][j] = \"FELONY\"\n",
        "  elif \"LARCENY\" in dataset[\"OFNS_DESC\"][j]:\n",
        "    dataset[\"OFNS_DESC\"][j] = \"LARCENY\"\n",
        "  elif \"MURDER\" in dataset[\"OFNS_DESC\"][j]:\n",
        "    dataset[\"OFNS_DESC\"][j] = \"MURDER\"\n",
        "  elif \"RAPE\" in dataset[\"OFNS_DESC\"][j]:\n",
        "    dataset[\"OFNS_DESC\"][j] = \"RAPE\"\n",
        "  elif \"ROBBERY\" in dataset[\"OFNS_DESC\"][j]:\n",
        "    dataset[\"OFNS_DESC\"][j] = \"ROBBERY\"\n",
        "  else:\n",
        "    dataset[\"OFNS_DESC\"][j] = \"OTHERS\"\n",
        "print(dataset)"
      ]
    },
    {
      "cell_type": "markdown",
      "metadata": {
        "id": "T-9FJa-rFHce"
      },
      "source": [
        "\"FELONY\",\"LARCENY\",\"MURDER\",\"RAPE\",\"ROBBERY\",\"OTHERS\""
      ]
    },
    {
      "cell_type": "code",
      "execution_count": null,
      "metadata": {
        "colab": {
          "base_uri": "https://localhost:8080/"
        },
        "id": "IXGhQso64cZy",
        "outputId": "3666734c-4cb5-4c09-b01d-1173e3512fec"
      },
      "outputs": [
        {
          "name": "stdout",
          "output_type": "stream",
          "text": [
            "all the felony percentage:\n",
            "[5.147, 10.661, 7.908, 9.739, 8.233, 9.348, 9.095, 7.077, 9.305, 5.128, 6.153, 6.807, 12.0, 13.829, 8.094, 8.178, 10.978, 7.109, 9.258, 13.188, 10.718, 11.103, 9.718, 12.283, 13.906, 12.824, 12.543, 12.727, 11.832, 12.12, 10.772, 13.943, 8.256, 10.46, 12.737, 12.559, 9.03, 9.249, 13.405, 14.95, 6.042, 11.135, 13.141, 11.93, 8.358, 15.152, 14.88, 8.973, 11.105, 9.216, 9.622, 13.815, 10.54, 9.017, 11.954, 9.308, 7.31, 11.138, 14.825, 10.677, 12.434, 11.182, 14.333, 13.777, 8.517, 10.211, 6.456, 12.954, 10.116, 7.101, 8.765, 9.271, 10.368, 9.097, 8.111, 9.274, 4.266]\n",
            "77\n",
            "all the larceny percentage:\n",
            "[37.131, 17.904, 22.113, 23.201, 17.488, 15.947, 30.482, 27.064, 27.594, 42.266, 40.738, 40.04, 16.0, 9.111, 21.873, 6.729, 13.972, 18.453, 13.07, 5.975, 19.961, 8.668, 8.457, 5.399, 8.003, 10.584, 9.258, 14.68, 9.052, 7.232, 6.712, 11.735, 18.596, 14.101, 10.499, 12.964, 15.251, 19.169, 17.158, 5.615, 10.278, 5.712, 14.967, 7.317, 15.29, 5.866, 12.14, 9.103, 5.13, 22.881, 10.266, 5.33, 6.304, 25.638, 7.816, 12.47, 17.766, 7.506, 4.987, 7.678, 9.836, 11.394, 7.613, 10.581, 11.213, 9.289, 21.681, 21.941, 6.647, 16.957, 8.891, 12.799, 8.207, 8.405, 15.253, 9.125, 10.665]\n",
            "77\n",
            "all the murder percentage:\n",
            "[0.521, 1.549, 0.35, 0.558, 0.361, 0.314, 0.098, 0.337, 0.321, 0.124, 0.324, 0.501, 0.0, 2.549, 0.736, 1.173, 0.798, 1.307, 1.293, 2.945, 0.787, 3.438, 1.83, 1.486, 1.312, 0.767, 0.919, 0.875, 1.884, 2.025, 2.331, 1.262, 1.312, 0.648, 0.602, 0.27, 0.334, 0.871, 0.179, 0.731, 0.139, 0.651, 0.913, 0.954, 0.737, 0.932, 0.945, 0.91, 1.481, 0.106, 1.127, 1.753, 1.109, 2.77, 0.575, 0.835, 0.609, 0.726, 2.089, 0.954, 1.454, 0.159, 1.034, 0.786, 0.613, 0.725, 0.447, 0.633, 0.289, 0.0, 1.131, 0.671, 0.28, 0.899, 0.046, 0.224, 0.251]\n",
            "77\n",
            "all the rape percentage:\n",
            "[0.174, 2.597, 0.28, 0.0, 0.3, 0.079, 0.197, 0.042, 0.107, 0.0, 0.259, 0.0, 2.0, 0.163, 0.268, 0.242, 0.2, 0.105, 0.068, 0.085, 0.098, 0.0, 0.247, 3.962, 0.262, 0.413, 0.184, 0.135, 0.525, 0.145, 0.241, 0.379, 0.231, 0.309, 0.129, 0.135, 0.067, 0.134, 0.179, 0.166, 0.139, 0.145, 0.152, 0.212, 0.295, 0.272, 0.165, 0.13, 4.548, 0.0, 0.04, 0.0, 0.151, 0.652, 0.23, 0.119, 0.203, 0.0, 0.337, 0.182, 0.124, 0.106, 0.376, 0.052, 0.306, 0.329, 0.041, 0.295, 0.145, 6.232, 0.157, 0.262, 0.2, 0.83, 0.184, 0.075, 0.0]\n",
            "77\n",
            "all the robbery percentage:\n",
            "[5.147, 4.419, 10.847, 5.087, 4.267, 8.562, 6.047, 5.56, 3.85, 4.508, 5.699, 6.206, 14.0, 5.26, 7.023, 3.865, 4.391, 3.502, 4.152, 4.652, 5.9, 5.802, 5.242, 9.46, 5.871, 8.048, 5.353, 4.108, 5.159, 5.004, 5.547, 11.924, 4.09, 5.523, 5.723, 4.524, 3.545, 4.223, 3.664, 4.585, 2.014, 1.735, 3.907, 3.181, 5.851, 4.934, 8.999, 3.381, 8.884, 4.767, 5.153, 6.381, 6.253, 3.422, 7.816, 4.236, 3.756, 2.3, 4.313, 3.135, 5.011, 4.028, 4.558, 5.134, 6.679, 3.096, 5.968, 5.232, 1.734, 2.971, 2.985, 3.499, 5.044, 3.77, 1.843, 1.421, 0.627]\n",
            "77\n",
            "all the others percentage:\n",
            "[51.88, 62.87, 58.502, 61.414, 69.351, 65.75, 54.081, 59.92, 58.824, 47.974, 46.826, 46.446, 56.0, 69.089, 62.007, 79.814, 69.661, 69.524, 72.158, 73.154, 62.537, 70.989, 74.505, 67.41, 70.646, 67.364, 71.744, 67.475, 71.548, 73.474, 74.397, 60.757, 67.515, 68.96, 70.31, 69.548, 71.773, 66.354, 65.416, 73.953, 81.389, 80.622, 66.92, 76.405, 69.469, 72.844, 62.872, 77.503, 68.852, 63.03, 73.792, 72.721, 75.643, 58.501, 71.609, 73.031, 70.355, 78.329, 73.45, 77.374, 71.141, 73.132, 72.086, 69.67, 72.672, 76.35, 65.408, 58.945, 81.069, 66.739, 78.071, 73.499, 75.901, 76.998, 74.562, 79.88, 84.191]\n",
            "77\n"
          ]
        }
      ],
      "source": [
        "#Pick out the id in the loop, and then find the crime in the corresponding precinct from the dataset\n",
        "all_felony_percentage = []\n",
        "all_larceny_percentage = []\n",
        "all_murder_percentage = []\n",
        "all_rape_percentage = []\n",
        "all_robbery_percentage = []\n",
        "all_others_percentage = []\n",
        "for precinct in precinct_number:\n",
        "  #get the dataset that only contain the data of this precinct\n",
        "  #print(\"in precinct\",precinct)\n",
        "  only_left_precinct = dataset.copy()\n",
        "  only_left_precinct.drop(only_left_precinct[(only_left_precinct.ARREST_PRECINCT != precinct)].index,inplace=True)\n",
        "  #print(\"droped dataset\")\n",
        "  #print(only_left_precinct)\n",
        "  \n",
        "  entire_crime_number = len(only_left_precinct)\n",
        "  #The percentage of felony\n",
        "  felony_percentage = ((only_left_precinct[\"OFNS_DESC\"] == \"FELONY\").sum())/entire_crime_number * 100\n",
        "  all_felony_percentage.append(round(felony_percentage,3))\n",
        "  larceny_percentage = ((only_left_precinct[\"OFNS_DESC\"] == \"LARCENY\").sum())/entire_crime_number * 100\n",
        "  all_larceny_percentage.append(round(larceny_percentage,3))\n",
        "  murder_percentage = ((only_left_precinct[\"OFNS_DESC\"] == \"MURDER\").sum())/entire_crime_number * 100\n",
        "  all_murder_percentage.append(round(murder_percentage,3))\n",
        "  rape_percentage = ((only_left_precinct[\"OFNS_DESC\"] == \"RAPE\").sum())/entire_crime_number * 100\n",
        "  all_rape_percentage.append(round(rape_percentage,3))\n",
        "  robbery_percentage = ((only_left_precinct[\"OFNS_DESC\"] == \"ROBBERY\").sum())/entire_crime_number * 100\n",
        "  all_robbery_percentage.append(round(robbery_percentage,3))\n",
        "  others_percentage = ((only_left_precinct[\"OFNS_DESC\"] == \"OTHERS\").sum())/entire_crime_number * 100\n",
        "  all_others_percentage.append(round(others_percentage,3))\n",
        "  \n",
        "print(\"all the felony percentage:\")\n",
        "print(all_felony_percentage)\n",
        "print(\"all the larceny percentage:\")\n",
        "print(all_larceny_percentage)\n",
        "print(\"all the murder percentage:\")\n",
        "print(all_murder_percentage)\n",
        "print(\"all the rape percentage:\")\n",
        "print(all_rape_percentage)\n",
        "print(\"all the robbery percentage:\")\n",
        "print(all_robbery_percentage)\n",
        "print(\"all the others percentage:\")\n",
        "print(all_others_percentage)\n",
        "\n",
        "\n",
        "  \n"
<<<<<<< HEAD
=======
      ],
      "metadata": {
        "id": "IXGhQso64cZy",
        "colab": {
          "base_uri": "https://localhost:8080/"
        },
        "outputId": "fa03fcc2-2b7a-47d7-c33e-5da365f27bb4"
      },
      "execution_count": 5,
      "outputs": [
        {
          "output_type": "stream",
          "name": "stdout",
          "text": [
            "all the felony percentage:\n",
            "[5.147, 10.661, 7.908, 9.739, 8.233, 9.348, 9.095, 7.077, 9.305, 5.128, 6.153, 6.807, 12.0, 13.829, 8.094, 8.178, 10.978, 7.109, 9.258, 13.188, 10.718, 11.103, 9.718, 12.283, 13.906, 12.824, 12.543, 12.727, 11.832, 12.12, 10.772, 13.943, 8.256, 10.46, 12.737, 12.559, 9.03, 9.249, 13.405, 14.95, 6.042, 11.135, 13.141, 11.93, 8.358, 15.152, 14.88, 8.973, 11.105, 9.216, 9.622, 13.815, 10.54, 9.017, 11.954, 9.308, 7.31, 11.138, 14.825, 10.677, 12.434, 11.182, 14.333, 13.777, 8.517, 10.211, 6.456, 12.954, 10.116, 7.101, 8.765, 9.271, 10.368, 9.097, 8.111, 9.274, 4.266]\n",
            "all the larceny percentage:\n",
            "[37.131, 17.904, 22.113, 23.201, 17.488, 15.947, 30.482, 27.064, 27.594, 42.266, 40.738, 40.04, 16.0, 9.111, 21.873, 6.729, 13.972, 18.453, 13.07, 5.975, 19.961, 8.668, 8.457, 5.399, 8.003, 10.584, 9.258, 14.68, 9.052, 7.232, 6.712, 11.735, 18.596, 14.101, 10.499, 12.964, 15.251, 19.169, 17.158, 5.615, 10.278, 5.712, 14.967, 7.317, 15.29, 5.866, 12.14, 9.103, 5.13, 22.881, 10.266, 5.33, 6.304, 25.638, 7.816, 12.47, 17.766, 7.506, 4.987, 7.678, 9.836, 11.394, 7.613, 10.581, 11.213, 9.289, 21.681, 21.941, 6.647, 16.957, 8.891, 12.799, 8.207, 8.405, 15.253, 9.125, 10.665]\n",
            "all the murder percentage:\n",
            "[0.521, 1.549, 0.35, 0.558, 0.361, 0.314, 0.098, 0.337, 0.321, 0.124, 0.324, 0.501, 0.0, 2.549, 0.736, 1.173, 0.798, 1.307, 1.293, 2.945, 0.787, 3.438, 1.83, 1.486, 1.312, 0.767, 0.919, 0.875, 1.884, 2.025, 2.331, 1.262, 1.312, 0.648, 0.602, 0.27, 0.334, 0.871, 0.179, 0.731, 0.139, 0.651, 0.913, 0.954, 0.737, 0.932, 0.945, 0.91, 1.481, 0.106, 1.127, 1.753, 1.109, 2.77, 0.575, 0.835, 0.609, 0.726, 2.089, 0.954, 1.454, 0.159, 1.034, 0.786, 0.613, 0.725, 0.447, 0.633, 0.289, 0.0, 1.131, 0.671, 0.28, 0.899, 0.046, 0.224, 0.251]\n",
            "all the rape percentage:\n",
            "[0.174, 2.597, 0.28, 0.0, 0.3, 0.079, 0.197, 0.042, 0.107, 0.0, 0.259, 0.0, 2.0, 0.163, 0.268, 0.242, 0.2, 0.105, 0.068, 0.085, 0.098, 0.0, 0.247, 3.962, 0.262, 0.413, 0.184, 0.135, 0.525, 0.145, 0.241, 0.379, 0.231, 0.309, 0.129, 0.135, 0.067, 0.134, 0.179, 0.166, 0.139, 0.145, 0.152, 0.212, 0.295, 0.272, 0.165, 0.13, 4.548, 0.0, 0.04, 0.0, 0.151, 0.652, 0.23, 0.119, 0.203, 0.0, 0.337, 0.182, 0.124, 0.106, 0.376, 0.052, 0.306, 0.329, 0.041, 0.295, 0.145, 6.232, 0.157, 0.262, 0.2, 0.83, 0.184, 0.075, 0.0]\n",
            "all the robbery percentage:\n",
            "[5.147, 4.419, 10.847, 5.087, 4.267, 8.562, 6.047, 5.56, 3.85, 4.508, 5.699, 6.206, 14.0, 5.26, 7.023, 3.865, 4.391, 3.502, 4.152, 4.652, 5.9, 5.802, 5.242, 9.46, 5.871, 8.048, 5.353, 4.108, 5.159, 5.004, 5.547, 11.924, 4.09, 5.523, 5.723, 4.524, 3.545, 4.223, 3.664, 4.585, 2.014, 1.735, 3.907, 3.181, 5.851, 4.934, 8.999, 3.381, 8.884, 4.767, 5.153, 6.381, 6.253, 3.422, 7.816, 4.236, 3.756, 2.3, 4.313, 3.135, 5.011, 4.028, 4.558, 5.134, 6.679, 3.096, 5.968, 5.232, 1.734, 2.971, 2.985, 3.499, 5.044, 3.77, 1.843, 1.421, 0.627]\n",
            "all the others percentage:\n",
            "[51.88, 62.87, 58.502, 61.414, 69.351, 65.75, 54.081, 59.92, 58.824, 47.974, 46.826, 46.446, 56.0, 69.089, 62.007, 79.814, 69.661, 69.524, 72.158, 73.154, 62.537, 70.989, 74.505, 67.41, 70.646, 67.364, 71.744, 67.475, 71.548, 73.474, 74.397, 60.757, 67.515, 68.96, 70.31, 69.548, 71.773, 66.354, 65.416, 73.953, 81.389, 80.622, 66.92, 76.405, 69.469, 72.844, 62.872, 77.503, 68.852, 63.03, 73.792, 72.721, 75.643, 58.501, 71.609, 73.031, 70.355, 78.329, 73.45, 77.374, 71.141, 73.132, 72.086, 69.67, 72.672, 76.35, 65.408, 58.945, 81.069, 66.739, 78.071, 73.499, 75.901, 76.998, 74.562, 79.88, 84.191]\n"
          ]
        }
>>>>>>> 2d6f55a7866c52a1c654023077dd9270487ac5a9
      ]
    },
    {
      "cell_type": "code",
      "execution_count": null,
      "metadata": {
        "colab": {
          "base_uri": "https://localhost:8080/"
        },
        "id": "wHNvhtdUKulK",
        "outputId": "f94c05d9-f8a0-4701-b8a1-24169fba69e5"
      },
      "outputs": [
        {
          "name": "stdout",
          "output_type": "stream",
          "text": [
            "[['FELONY', 5.147], ['FELONY', 10.661], ['FELONY', 7.908], ['FELONY', 9.739], ['FELONY', 8.233], ['FELONY', 9.348], ['FELONY', 9.095], ['FELONY', 7.077], ['FELONY', 9.305], ['FELONY', 5.128], ['FELONY', 6.153], ['FELONY', 6.807], ['FELONY', 12.0], ['FELONY', 13.829], ['FELONY', 8.094], ['FELONY', 8.178], ['FELONY', 10.978], ['FELONY', 7.109], ['FELONY', 9.258], ['FELONY', 13.188], ['FELONY', 10.718], ['FELONY', 11.103], ['FELONY', 9.718], ['FELONY', 12.283], ['FELONY', 13.906], ['FELONY', 12.824], ['FELONY', 12.543], ['FELONY', 12.727], ['FELONY', 11.832], ['FELONY', 12.12], ['FELONY', 10.772], ['FELONY', 13.943], ['FELONY', 8.256], ['FELONY', 10.46], ['FELONY', 12.737], ['FELONY', 12.559], ['FELONY', 9.03], ['FELONY', 9.249], ['FELONY', 13.405], ['FELONY', 14.95], ['FELONY', 6.042], ['FELONY', 11.135], ['FELONY', 13.141], ['FELONY', 11.93], ['FELONY', 8.358], ['FELONY', 15.152], ['FELONY', 14.88], ['FELONY', 8.973], ['FELONY', 11.105], ['FELONY', 9.216], ['FELONY', 9.622], ['FELONY', 13.815], ['FELONY', 10.54], ['FELONY', 9.017], ['FELONY', 11.954], ['FELONY', 9.308], ['FELONY', 7.31], ['FELONY', 11.138], ['FELONY', 14.825], ['FELONY', 10.677], ['FELONY', 12.434], ['FELONY', 11.182], ['FELONY', 14.333], ['FELONY', 13.777], ['FELONY', 8.517], ['FELONY', 10.211], ['FELONY', 6.456], ['FELONY', 12.954], ['FELONY', 10.116], ['FELONY', 7.101], ['FELONY', 8.765], ['FELONY', 9.271], ['FELONY', 10.368], ['FELONY', 9.097], ['FELONY', 8.111], ['FELONY', 9.274], ['FELONY', 4.266]]\n",
            "[['LARCENY', 37.131], ['LARCENY', 17.904], ['LARCENY', 22.113], ['LARCENY', 23.201], ['LARCENY', 17.488], ['LARCENY', 15.947], ['LARCENY', 30.482], ['LARCENY', 27.064], ['LARCENY', 27.594], ['LARCENY', 42.266], ['LARCENY', 40.738], ['LARCENY', 40.04], ['LARCENY', 16.0], ['LARCENY', 9.111], ['LARCENY', 21.873], ['LARCENY', 6.729], ['LARCENY', 13.972], ['LARCENY', 18.453], ['LARCENY', 13.07], ['LARCENY', 5.975], ['LARCENY', 19.961], ['LARCENY', 8.668], ['LARCENY', 8.457], ['LARCENY', 5.399], ['LARCENY', 8.003], ['LARCENY', 10.584], ['LARCENY', 9.258], ['LARCENY', 14.68], ['LARCENY', 9.052], ['LARCENY', 7.232], ['LARCENY', 6.712], ['LARCENY', 11.735], ['LARCENY', 18.596], ['LARCENY', 14.101], ['LARCENY', 10.499], ['LARCENY', 12.964], ['LARCENY', 15.251], ['LARCENY', 19.169], ['LARCENY', 17.158], ['LARCENY', 5.615], ['LARCENY', 10.278], ['LARCENY', 5.712], ['LARCENY', 14.967], ['LARCENY', 7.317], ['LARCENY', 15.29], ['LARCENY', 5.866], ['LARCENY', 12.14], ['LARCENY', 9.103], ['LARCENY', 5.13], ['LARCENY', 22.881], ['LARCENY', 10.266], ['LARCENY', 5.33], ['LARCENY', 6.304], ['LARCENY', 25.638], ['LARCENY', 7.816], ['LARCENY', 12.47], ['LARCENY', 17.766], ['LARCENY', 7.506], ['LARCENY', 4.987], ['LARCENY', 7.678], ['LARCENY', 9.836], ['LARCENY', 11.394], ['LARCENY', 7.613], ['LARCENY', 10.581], ['LARCENY', 11.213], ['LARCENY', 9.289], ['LARCENY', 21.681], ['LARCENY', 21.941], ['LARCENY', 6.647], ['LARCENY', 16.957], ['LARCENY', 8.891], ['LARCENY', 12.799], ['LARCENY', 8.207], ['LARCENY', 8.405], ['LARCENY', 15.253], ['LARCENY', 9.125], ['LARCENY', 10.665]]\n",
            "[['MURDER', 0.521], ['MURDER', 1.549], ['MURDER', 0.35], ['MURDER', 0.558], ['MURDER', 0.361], ['MURDER', 0.314], ['MURDER', 0.098], ['MURDER', 0.337], ['MURDER', 0.321], ['MURDER', 0.124], ['MURDER', 0.324], ['MURDER', 0.501], ['MURDER', 0.0], ['MURDER', 2.549], ['MURDER', 0.736], ['MURDER', 1.173], ['MURDER', 0.798], ['MURDER', 1.307], ['MURDER', 1.293], ['MURDER', 2.945], ['MURDER', 0.787], ['MURDER', 3.438], ['MURDER', 1.83], ['MURDER', 1.486], ['MURDER', 1.312], ['MURDER', 0.767], ['MURDER', 0.919], ['MURDER', 0.875], ['MURDER', 1.884], ['MURDER', 2.025], ['MURDER', 2.331], ['MURDER', 1.262], ['MURDER', 1.312], ['MURDER', 0.648], ['MURDER', 0.602], ['MURDER', 0.27], ['MURDER', 0.334], ['MURDER', 0.871], ['MURDER', 0.179], ['MURDER', 0.731], ['MURDER', 0.139], ['MURDER', 0.651], ['MURDER', 0.913], ['MURDER', 0.954], ['MURDER', 0.737], ['MURDER', 0.932], ['MURDER', 0.945], ['MURDER', 0.91], ['MURDER', 1.481], ['MURDER', 0.106], ['MURDER', 1.127], ['MURDER', 1.753], ['MURDER', 1.109], ['MURDER', 2.77], ['MURDER', 0.575], ['MURDER', 0.835], ['MURDER', 0.609], ['MURDER', 0.726], ['MURDER', 2.089], ['MURDER', 0.954], ['MURDER', 1.454], ['MURDER', 0.159], ['MURDER', 1.034], ['MURDER', 0.786], ['MURDER', 0.613], ['MURDER', 0.725], ['MURDER', 0.447], ['MURDER', 0.633], ['MURDER', 0.289], ['MURDER', 0.0], ['MURDER', 1.131], ['MURDER', 0.671], ['MURDER', 0.28], ['MURDER', 0.899], ['MURDER', 0.046], ['MURDER', 0.224], ['MURDER', 0.251]]\n",
            "[['RAPE', 0.174], ['RAPE', 2.597], ['RAPE', 0.28], ['RAPE', 0.0], ['RAPE', 0.3], ['RAPE', 0.079], ['RAPE', 0.197], ['RAPE', 0.042], ['RAPE', 0.107], ['RAPE', 0.0], ['RAPE', 0.259], ['RAPE', 0.0], ['RAPE', 2.0], ['RAPE', 0.163], ['RAPE', 0.268], ['RAPE', 0.242], ['RAPE', 0.2], ['RAPE', 0.105], ['RAPE', 0.068], ['RAPE', 0.085], ['RAPE', 0.098], ['RAPE', 0.0], ['RAPE', 0.247], ['RAPE', 3.962], ['RAPE', 0.262], ['RAPE', 0.413], ['RAPE', 0.184], ['RAPE', 0.135], ['RAPE', 0.525], ['RAPE', 0.145], ['RAPE', 0.241], ['RAPE', 0.379], ['RAPE', 0.231], ['RAPE', 0.309], ['RAPE', 0.129], ['RAPE', 0.135], ['RAPE', 0.067], ['RAPE', 0.134], ['RAPE', 0.179], ['RAPE', 0.166], ['RAPE', 0.139], ['RAPE', 0.145], ['RAPE', 0.152], ['RAPE', 0.212], ['RAPE', 0.295], ['RAPE', 0.272], ['RAPE', 0.165], ['RAPE', 0.13], ['RAPE', 4.548], ['RAPE', 0.0], ['RAPE', 0.04], ['RAPE', 0.0], ['RAPE', 0.151], ['RAPE', 0.652], ['RAPE', 0.23], ['RAPE', 0.119], ['RAPE', 0.203], ['RAPE', 0.0], ['RAPE', 0.337], ['RAPE', 0.182], ['RAPE', 0.124], ['RAPE', 0.106], ['RAPE', 0.376], ['RAPE', 0.052], ['RAPE', 0.306], ['RAPE', 0.329], ['RAPE', 0.041], ['RAPE', 0.295], ['RAPE', 0.145], ['RAPE', 6.232], ['RAPE', 0.157], ['RAPE', 0.262], ['RAPE', 0.2], ['RAPE', 0.83], ['RAPE', 0.184], ['RAPE', 0.075], ['RAPE', 0.0]]\n",
            "[['ROBBERY', 5.147], ['ROBBERY', 4.419], ['ROBBERY', 10.847], ['ROBBERY', 5.087], ['ROBBERY', 4.267], ['ROBBERY', 8.562], ['ROBBERY', 6.047], ['ROBBERY', 5.56], ['ROBBERY', 3.85], ['ROBBERY', 4.508], ['ROBBERY', 5.699], ['ROBBERY', 6.206], ['ROBBERY', 14.0], ['ROBBERY', 5.26], ['ROBBERY', 7.023], ['ROBBERY', 3.865], ['ROBBERY', 4.391], ['ROBBERY', 3.502], ['ROBBERY', 4.152], ['ROBBERY', 4.652], ['ROBBERY', 5.9], ['ROBBERY', 5.802], ['ROBBERY', 5.242], ['ROBBERY', 9.46], ['ROBBERY', 5.871], ['ROBBERY', 8.048], ['ROBBERY', 5.353], ['ROBBERY', 4.108], ['ROBBERY', 5.159], ['ROBBERY', 5.004], ['ROBBERY', 5.547], ['ROBBERY', 11.924], ['ROBBERY', 4.09], ['ROBBERY', 5.523], ['ROBBERY', 5.723], ['ROBBERY', 4.524], ['ROBBERY', 3.545], ['ROBBERY', 4.223], ['ROBBERY', 3.664], ['ROBBERY', 4.585], ['ROBBERY', 2.014], ['ROBBERY', 1.735], ['ROBBERY', 3.907], ['ROBBERY', 3.181], ['ROBBERY', 5.851], ['ROBBERY', 4.934], ['ROBBERY', 8.999], ['ROBBERY', 3.381], ['ROBBERY', 8.884], ['ROBBERY', 4.767], ['ROBBERY', 5.153], ['ROBBERY', 6.381], ['ROBBERY', 6.253], ['ROBBERY', 3.422], ['ROBBERY', 7.816], ['ROBBERY', 4.236], ['ROBBERY', 3.756], ['ROBBERY', 2.3], ['ROBBERY', 4.313], ['ROBBERY', 3.135], ['ROBBERY', 5.011], ['ROBBERY', 4.028], ['ROBBERY', 4.558], ['ROBBERY', 5.134], ['ROBBERY', 6.679], ['ROBBERY', 3.096], ['ROBBERY', 5.968], ['ROBBERY', 5.232], ['ROBBERY', 1.734], ['ROBBERY', 2.971], ['ROBBERY', 2.985], ['ROBBERY', 3.499], ['ROBBERY', 5.044], ['ROBBERY', 3.77], ['ROBBERY', 1.843], ['ROBBERY', 1.421], ['ROBBERY', 0.627]]\n",
            "[['OTHERS', 51.88], ['OTHERS', 62.87], ['OTHERS', 58.502], ['OTHERS', 61.414], ['OTHERS', 69.351], ['OTHERS', 65.75], ['OTHERS', 54.081], ['OTHERS', 59.92], ['OTHERS', 58.824], ['OTHERS', 47.974], ['OTHERS', 46.826], ['OTHERS', 46.446], ['OTHERS', 56.0], ['OTHERS', 69.089], ['OTHERS', 62.007], ['OTHERS', 79.814], ['OTHERS', 69.661], ['OTHERS', 69.524], ['OTHERS', 72.158], ['OTHERS', 73.154], ['OTHERS', 62.537], ['OTHERS', 70.989], ['OTHERS', 74.505], ['OTHERS', 67.41], ['OTHERS', 70.646], ['OTHERS', 67.364], ['OTHERS', 71.744], ['OTHERS', 67.475], ['OTHERS', 71.548], ['OTHERS', 73.474], ['OTHERS', 74.397], ['OTHERS', 60.757], ['OTHERS', 67.515], ['OTHERS', 68.96], ['OTHERS', 70.31], ['OTHERS', 69.548], ['OTHERS', 71.773], ['OTHERS', 66.354], ['OTHERS', 65.416], ['OTHERS', 73.953], ['OTHERS', 81.389], ['OTHERS', 80.622], ['OTHERS', 66.92], ['OTHERS', 76.405], ['OTHERS', 69.469], ['OTHERS', 72.844], ['OTHERS', 62.872], ['OTHERS', 77.503], ['OTHERS', 68.852], ['OTHERS', 63.03], ['OTHERS', 73.792], ['OTHERS', 72.721], ['OTHERS', 75.643], ['OTHERS', 58.501], ['OTHERS', 71.609], ['OTHERS', 73.031], ['OTHERS', 70.355], ['OTHERS', 78.329], ['OTHERS', 73.45], ['OTHERS', 77.374], ['OTHERS', 71.141], ['OTHERS', 73.132], ['OTHERS', 72.086], ['OTHERS', 69.67], ['OTHERS', 72.672], ['OTHERS', 76.35], ['OTHERS', 65.408], ['OTHERS', 58.945], ['OTHERS', 81.069], ['OTHERS', 66.739], ['OTHERS', 78.071], ['OTHERS', 73.499], ['OTHERS', 75.901], ['OTHERS', 76.998], ['OTHERS', 74.562], ['OTHERS', 79.88], ['OTHERS', 84.191]]\n"
          ]
        }
      ],
      "source": [
        "def get_properties_percentage(percentage_list,crime_type):\n",
        "  result_list = []\n",
        "  for k in range(0,len(all_felony_percentage)):\n",
        "    precinct_percentage = []\n",
        "    precinct_percentage.append(crime_type)\n",
        "    precinct_percentage.append(percentage_list[k])\n",
        "    result_list.append(precinct_percentage)\n",
        "  return result_list\n",
        "\n",
        "\n",
        "\n",
        "#get \"FELONY\",\"LARCENY\",\"MURDER\",\"RAPE\",\"ROBBERY\",\"OTHERS\"\n",
        "\n",
        "felony_property_percentage = get_properties_percentage(all_felony_percentage,\"FELONY\")\n",
        "larceny_property_percentage = get_properties_percentage(all_larceny_percentage,\"LARCENY\")\n",
        "murder_property_percentage = get_properties_percentage(all_murder_percentage,\"MURDER\")\n",
        "rape_property_percentage = get_properties_percentage(all_rape_percentage,\"RAPE\")\n",
        "robbery_property_percentage = get_properties_percentage(all_robbery_percentage,\"ROBBERY\")\n",
        "others_property_percentage = get_properties_percentage(all_others_percentage,\"OTHERS\")\n",
        "\n",
        "print(\"felony:\")\n",
        "print(felony_property_percentage)\n",
        "print(\"larceny\")\n",
        "print(larceny_property_percentage)\n",
        "print(\"murder\")\n",
        "print(murder_property_percentage)\n",
        "print(\"rape\")\n",
        "print(rape_property_percentage)\n",
        "print(\"robbery\")\n",
        "print(robbery_property_percentage)\n",
        "print(\"others\")\n",
        "print(others_property_percentage)\n"
<<<<<<< HEAD
=======
      ],
      "metadata": {
        "id": "wHNvhtdUKulK",
        "colab": {
          "base_uri": "https://localhost:8080/"
        },
        "outputId": "0c05e4e0-3a9e-41ad-87a1-8729ded1fc73"
      },
      "execution_count": 6,
      "outputs": [
        {
          "output_type": "stream",
          "name": "stdout",
          "text": [
            "felony:\n",
            "[['FELONY', 5.147], ['FELONY', 10.661], ['FELONY', 7.908], ['FELONY', 9.739], ['FELONY', 8.233], ['FELONY', 9.348], ['FELONY', 9.095], ['FELONY', 7.077], ['FELONY', 9.305], ['FELONY', 5.128], ['FELONY', 6.153], ['FELONY', 6.807], ['FELONY', 12.0], ['FELONY', 13.829], ['FELONY', 8.094], ['FELONY', 8.178], ['FELONY', 10.978], ['FELONY', 7.109], ['FELONY', 9.258], ['FELONY', 13.188], ['FELONY', 10.718], ['FELONY', 11.103], ['FELONY', 9.718], ['FELONY', 12.283], ['FELONY', 13.906], ['FELONY', 12.824], ['FELONY', 12.543], ['FELONY', 12.727], ['FELONY', 11.832], ['FELONY', 12.12], ['FELONY', 10.772], ['FELONY', 13.943], ['FELONY', 8.256], ['FELONY', 10.46], ['FELONY', 12.737], ['FELONY', 12.559], ['FELONY', 9.03], ['FELONY', 9.249], ['FELONY', 13.405], ['FELONY', 14.95], ['FELONY', 6.042], ['FELONY', 11.135], ['FELONY', 13.141], ['FELONY', 11.93], ['FELONY', 8.358], ['FELONY', 15.152], ['FELONY', 14.88], ['FELONY', 8.973], ['FELONY', 11.105], ['FELONY', 9.216], ['FELONY', 9.622], ['FELONY', 13.815], ['FELONY', 10.54], ['FELONY', 9.017], ['FELONY', 11.954], ['FELONY', 9.308], ['FELONY', 7.31], ['FELONY', 11.138], ['FELONY', 14.825], ['FELONY', 10.677], ['FELONY', 12.434], ['FELONY', 11.182], ['FELONY', 14.333], ['FELONY', 13.777], ['FELONY', 8.517], ['FELONY', 10.211], ['FELONY', 6.456], ['FELONY', 12.954], ['FELONY', 10.116], ['FELONY', 7.101], ['FELONY', 8.765], ['FELONY', 9.271], ['FELONY', 10.368], ['FELONY', 9.097], ['FELONY', 8.111], ['FELONY', 9.274], ['FELONY', 4.266]]\n",
            "larceny\n",
            "[['LARCENY', 37.131], ['LARCENY', 17.904], ['LARCENY', 22.113], ['LARCENY', 23.201], ['LARCENY', 17.488], ['LARCENY', 15.947], ['LARCENY', 30.482], ['LARCENY', 27.064], ['LARCENY', 27.594], ['LARCENY', 42.266], ['LARCENY', 40.738], ['LARCENY', 40.04], ['LARCENY', 16.0], ['LARCENY', 9.111], ['LARCENY', 21.873], ['LARCENY', 6.729], ['LARCENY', 13.972], ['LARCENY', 18.453], ['LARCENY', 13.07], ['LARCENY', 5.975], ['LARCENY', 19.961], ['LARCENY', 8.668], ['LARCENY', 8.457], ['LARCENY', 5.399], ['LARCENY', 8.003], ['LARCENY', 10.584], ['LARCENY', 9.258], ['LARCENY', 14.68], ['LARCENY', 9.052], ['LARCENY', 7.232], ['LARCENY', 6.712], ['LARCENY', 11.735], ['LARCENY', 18.596], ['LARCENY', 14.101], ['LARCENY', 10.499], ['LARCENY', 12.964], ['LARCENY', 15.251], ['LARCENY', 19.169], ['LARCENY', 17.158], ['LARCENY', 5.615], ['LARCENY', 10.278], ['LARCENY', 5.712], ['LARCENY', 14.967], ['LARCENY', 7.317], ['LARCENY', 15.29], ['LARCENY', 5.866], ['LARCENY', 12.14], ['LARCENY', 9.103], ['LARCENY', 5.13], ['LARCENY', 22.881], ['LARCENY', 10.266], ['LARCENY', 5.33], ['LARCENY', 6.304], ['LARCENY', 25.638], ['LARCENY', 7.816], ['LARCENY', 12.47], ['LARCENY', 17.766], ['LARCENY', 7.506], ['LARCENY', 4.987], ['LARCENY', 7.678], ['LARCENY', 9.836], ['LARCENY', 11.394], ['LARCENY', 7.613], ['LARCENY', 10.581], ['LARCENY', 11.213], ['LARCENY', 9.289], ['LARCENY', 21.681], ['LARCENY', 21.941], ['LARCENY', 6.647], ['LARCENY', 16.957], ['LARCENY', 8.891], ['LARCENY', 12.799], ['LARCENY', 8.207], ['LARCENY', 8.405], ['LARCENY', 15.253], ['LARCENY', 9.125], ['LARCENY', 10.665]]\n",
            "murder\n",
            "[['MURDER', 0.521], ['MURDER', 1.549], ['MURDER', 0.35], ['MURDER', 0.558], ['MURDER', 0.361], ['MURDER', 0.314], ['MURDER', 0.098], ['MURDER', 0.337], ['MURDER', 0.321], ['MURDER', 0.124], ['MURDER', 0.324], ['MURDER', 0.501], ['MURDER', 0.0], ['MURDER', 2.549], ['MURDER', 0.736], ['MURDER', 1.173], ['MURDER', 0.798], ['MURDER', 1.307], ['MURDER', 1.293], ['MURDER', 2.945], ['MURDER', 0.787], ['MURDER', 3.438], ['MURDER', 1.83], ['MURDER', 1.486], ['MURDER', 1.312], ['MURDER', 0.767], ['MURDER', 0.919], ['MURDER', 0.875], ['MURDER', 1.884], ['MURDER', 2.025], ['MURDER', 2.331], ['MURDER', 1.262], ['MURDER', 1.312], ['MURDER', 0.648], ['MURDER', 0.602], ['MURDER', 0.27], ['MURDER', 0.334], ['MURDER', 0.871], ['MURDER', 0.179], ['MURDER', 0.731], ['MURDER', 0.139], ['MURDER', 0.651], ['MURDER', 0.913], ['MURDER', 0.954], ['MURDER', 0.737], ['MURDER', 0.932], ['MURDER', 0.945], ['MURDER', 0.91], ['MURDER', 1.481], ['MURDER', 0.106], ['MURDER', 1.127], ['MURDER', 1.753], ['MURDER', 1.109], ['MURDER', 2.77], ['MURDER', 0.575], ['MURDER', 0.835], ['MURDER', 0.609], ['MURDER', 0.726], ['MURDER', 2.089], ['MURDER', 0.954], ['MURDER', 1.454], ['MURDER', 0.159], ['MURDER', 1.034], ['MURDER', 0.786], ['MURDER', 0.613], ['MURDER', 0.725], ['MURDER', 0.447], ['MURDER', 0.633], ['MURDER', 0.289], ['MURDER', 0.0], ['MURDER', 1.131], ['MURDER', 0.671], ['MURDER', 0.28], ['MURDER', 0.899], ['MURDER', 0.046], ['MURDER', 0.224], ['MURDER', 0.251]]\n",
            "rape\n",
            "[['RAPE', 0.174], ['RAPE', 2.597], ['RAPE', 0.28], ['RAPE', 0.0], ['RAPE', 0.3], ['RAPE', 0.079], ['RAPE', 0.197], ['RAPE', 0.042], ['RAPE', 0.107], ['RAPE', 0.0], ['RAPE', 0.259], ['RAPE', 0.0], ['RAPE', 2.0], ['RAPE', 0.163], ['RAPE', 0.268], ['RAPE', 0.242], ['RAPE', 0.2], ['RAPE', 0.105], ['RAPE', 0.068], ['RAPE', 0.085], ['RAPE', 0.098], ['RAPE', 0.0], ['RAPE', 0.247], ['RAPE', 3.962], ['RAPE', 0.262], ['RAPE', 0.413], ['RAPE', 0.184], ['RAPE', 0.135], ['RAPE', 0.525], ['RAPE', 0.145], ['RAPE', 0.241], ['RAPE', 0.379], ['RAPE', 0.231], ['RAPE', 0.309], ['RAPE', 0.129], ['RAPE', 0.135], ['RAPE', 0.067], ['RAPE', 0.134], ['RAPE', 0.179], ['RAPE', 0.166], ['RAPE', 0.139], ['RAPE', 0.145], ['RAPE', 0.152], ['RAPE', 0.212], ['RAPE', 0.295], ['RAPE', 0.272], ['RAPE', 0.165], ['RAPE', 0.13], ['RAPE', 4.548], ['RAPE', 0.0], ['RAPE', 0.04], ['RAPE', 0.0], ['RAPE', 0.151], ['RAPE', 0.652], ['RAPE', 0.23], ['RAPE', 0.119], ['RAPE', 0.203], ['RAPE', 0.0], ['RAPE', 0.337], ['RAPE', 0.182], ['RAPE', 0.124], ['RAPE', 0.106], ['RAPE', 0.376], ['RAPE', 0.052], ['RAPE', 0.306], ['RAPE', 0.329], ['RAPE', 0.041], ['RAPE', 0.295], ['RAPE', 0.145], ['RAPE', 6.232], ['RAPE', 0.157], ['RAPE', 0.262], ['RAPE', 0.2], ['RAPE', 0.83], ['RAPE', 0.184], ['RAPE', 0.075], ['RAPE', 0.0]]\n",
            "robbery\n",
            "[['ROBBERY', 5.147], ['ROBBERY', 4.419], ['ROBBERY', 10.847], ['ROBBERY', 5.087], ['ROBBERY', 4.267], ['ROBBERY', 8.562], ['ROBBERY', 6.047], ['ROBBERY', 5.56], ['ROBBERY', 3.85], ['ROBBERY', 4.508], ['ROBBERY', 5.699], ['ROBBERY', 6.206], ['ROBBERY', 14.0], ['ROBBERY', 5.26], ['ROBBERY', 7.023], ['ROBBERY', 3.865], ['ROBBERY', 4.391], ['ROBBERY', 3.502], ['ROBBERY', 4.152], ['ROBBERY', 4.652], ['ROBBERY', 5.9], ['ROBBERY', 5.802], ['ROBBERY', 5.242], ['ROBBERY', 9.46], ['ROBBERY', 5.871], ['ROBBERY', 8.048], ['ROBBERY', 5.353], ['ROBBERY', 4.108], ['ROBBERY', 5.159], ['ROBBERY', 5.004], ['ROBBERY', 5.547], ['ROBBERY', 11.924], ['ROBBERY', 4.09], ['ROBBERY', 5.523], ['ROBBERY', 5.723], ['ROBBERY', 4.524], ['ROBBERY', 3.545], ['ROBBERY', 4.223], ['ROBBERY', 3.664], ['ROBBERY', 4.585], ['ROBBERY', 2.014], ['ROBBERY', 1.735], ['ROBBERY', 3.907], ['ROBBERY', 3.181], ['ROBBERY', 5.851], ['ROBBERY', 4.934], ['ROBBERY', 8.999], ['ROBBERY', 3.381], ['ROBBERY', 8.884], ['ROBBERY', 4.767], ['ROBBERY', 5.153], ['ROBBERY', 6.381], ['ROBBERY', 6.253], ['ROBBERY', 3.422], ['ROBBERY', 7.816], ['ROBBERY', 4.236], ['ROBBERY', 3.756], ['ROBBERY', 2.3], ['ROBBERY', 4.313], ['ROBBERY', 3.135], ['ROBBERY', 5.011], ['ROBBERY', 4.028], ['ROBBERY', 4.558], ['ROBBERY', 5.134], ['ROBBERY', 6.679], ['ROBBERY', 3.096], ['ROBBERY', 5.968], ['ROBBERY', 5.232], ['ROBBERY', 1.734], ['ROBBERY', 2.971], ['ROBBERY', 2.985], ['ROBBERY', 3.499], ['ROBBERY', 5.044], ['ROBBERY', 3.77], ['ROBBERY', 1.843], ['ROBBERY', 1.421], ['ROBBERY', 0.627]]\n",
            "others\n",
            "[['OTHERS', 51.88], ['OTHERS', 62.87], ['OTHERS', 58.502], ['OTHERS', 61.414], ['OTHERS', 69.351], ['OTHERS', 65.75], ['OTHERS', 54.081], ['OTHERS', 59.92], ['OTHERS', 58.824], ['OTHERS', 47.974], ['OTHERS', 46.826], ['OTHERS', 46.446], ['OTHERS', 56.0], ['OTHERS', 69.089], ['OTHERS', 62.007], ['OTHERS', 79.814], ['OTHERS', 69.661], ['OTHERS', 69.524], ['OTHERS', 72.158], ['OTHERS', 73.154], ['OTHERS', 62.537], ['OTHERS', 70.989], ['OTHERS', 74.505], ['OTHERS', 67.41], ['OTHERS', 70.646], ['OTHERS', 67.364], ['OTHERS', 71.744], ['OTHERS', 67.475], ['OTHERS', 71.548], ['OTHERS', 73.474], ['OTHERS', 74.397], ['OTHERS', 60.757], ['OTHERS', 67.515], ['OTHERS', 68.96], ['OTHERS', 70.31], ['OTHERS', 69.548], ['OTHERS', 71.773], ['OTHERS', 66.354], ['OTHERS', 65.416], ['OTHERS', 73.953], ['OTHERS', 81.389], ['OTHERS', 80.622], ['OTHERS', 66.92], ['OTHERS', 76.405], ['OTHERS', 69.469], ['OTHERS', 72.844], ['OTHERS', 62.872], ['OTHERS', 77.503], ['OTHERS', 68.852], ['OTHERS', 63.03], ['OTHERS', 73.792], ['OTHERS', 72.721], ['OTHERS', 75.643], ['OTHERS', 58.501], ['OTHERS', 71.609], ['OTHERS', 73.031], ['OTHERS', 70.355], ['OTHERS', 78.329], ['OTHERS', 73.45], ['OTHERS', 77.374], ['OTHERS', 71.141], ['OTHERS', 73.132], ['OTHERS', 72.086], ['OTHERS', 69.67], ['OTHERS', 72.672], ['OTHERS', 76.35], ['OTHERS', 65.408], ['OTHERS', 58.945], ['OTHERS', 81.069], ['OTHERS', 66.739], ['OTHERS', 78.071], ['OTHERS', 73.499], ['OTHERS', 75.901], ['OTHERS', 76.998], ['OTHERS', 74.562], ['OTHERS', 79.88], ['OTHERS', 84.191]]\n"
          ]
        }
>>>>>>> 2d6f55a7866c52a1c654023077dd9270487ac5a9
      ]
    },
    {
      "cell_type": "code",
      "execution_count": null,
      "metadata": {
        "id": "bBcFxj_AYKdO"
      },
      "outputs": [],
      "source": [
        "import json\n",
        "\n",
        "with open(\"precincts.geojson\", \"r\") as f:\n",
        "    map_data = json.load(f)\n",
        "\n",
        "def add_property(property_list,map_data):\n",
        "  for t in range(0,len(map_data[\"features\"])):\n",
        "    feat = map_data[\"features\"][t]\n",
        "    feat[\"properties\"][property_list[t][0]] = property_list[t][1]\n",
        "  return map_data\n",
        "\n",
        "map_data = add_property(felony_property_percentage,map_data)\n",
        "map_data = add_property(larceny_property_percentage,map_data)\n",
        "map_data = add_property(murder_property_percentage,map_data)\n",
        "map_data = add_property(rape_property_percentage,map_data)\n",
        "map_data = add_property(robbery_property_percentage,map_data)\n",
        "map_data = add_property(others_property_percentage,map_data)\n",
        "\n",
        "with open(\"final.geojson\",\"w\") as f:\n",
        "    json.dump(map_data,f)"
<<<<<<< HEAD
      ]
=======
      ],
      "metadata": {
        "id": "bBcFxj_AYKdO"
      },
      "execution_count": 9,
      "outputs": []
>>>>>>> 2d6f55a7866c52a1c654023077dd9270487ac5a9
    }
  ],
  "metadata": {
    "colab": {
      "collapsed_sections": [],
      "name": "dwd_group_project.ipynb",
      "provenance": []
    },
    "kernelspec": {
      "display_name": "Python 3",
      "name": "python3"
    },
    "language_info": {
      "name": "python",
      "version": "3.9.7"
    }
  },
  "nbformat": 4,
  "nbformat_minor": 0
}
