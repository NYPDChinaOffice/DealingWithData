{
 "cells": [
  {
   "cell_type": "markdown",
   "metadata": {},
   "source": [
    "Data cleaning"
   ]
  },
  {
   "cell_type": "code",
   "execution_count": 14,
   "metadata": {},
   "outputs": [],
   "source": [
    "#UDF for get data\n"
   ]
  },
  {
   "cell_type": "code",
   "execution_count": 40,
   "metadata": {},
   "outputs": [
    {
     "name": "stdout",
     "output_type": "stream",
     "text": [
      "<class 'pandas.core.frame.DataFrame'>\n",
      "Int64Index: 154011 entries, 0 to 155506\n",
      "Data columns (total 19 columns):\n",
      " #   Column             Non-Null Count   Dtype  \n",
      "---  ------             --------------   -----  \n",
      " 0   arrest_key         154011 non-null  int64  \n",
      " 1   arrest_date        154011 non-null  object \n",
      " 2   pd_cd              154011 non-null  float64\n",
      " 3   pd_desc            154011 non-null  object \n",
      " 4   ky_cd              154011 non-null  float64\n",
      " 5   ofns_desc          154011 non-null  object \n",
      " 6   law_code           154011 non-null  object \n",
      " 7   law_cat_cd         154011 non-null  object \n",
      " 8   arrest_boro        154011 non-null  object \n",
      " 9   arrest_precinct    154011 non-null  int64  \n",
      " 10  jurisdiction_code  154011 non-null  int64  \n",
      " 11  age_group          154011 non-null  object \n",
      " 12  perp_sex           154011 non-null  object \n",
      " 13  perp_race          154011 non-null  object \n",
      " 14  x_coord_cd         154011 non-null  int64  \n",
      " 15  y_coord_cd         154011 non-null  int64  \n",
      " 16  latitude           154011 non-null  float64\n",
      " 17  longitude          154011 non-null  float64\n",
      " 18  geocoded_column    154011 non-null  object \n",
      "dtypes: float64(4), int64(5), object(10)\n",
      "memory usage: 23.5+ MB\n"
     ]
    }
   ],
   "source": [
    "import pandas as pd\n",
    "\n",
    "raw_data=pd.read_csv('https://data.cityofnewyork.us/resource/uip8-fykc.csv?$limit=200000')\n",
    "new_data=raw_data.dropna(how='any')\n",
    "new_data.info()"
   ]
  },
  {
   "cell_type": "code",
   "execution_count": 8,
   "metadata": {},
   "outputs": [],
   "source": [
    "#new_data.to_csv('new_data.csv')"
   ]
  },
  {
   "cell_type": "code",
   "execution_count": null,
   "metadata": {},
   "outputs": [],
   "source": []
  },
  {
   "cell_type": "markdown",
   "metadata": {},
   "source": [
    "Data exploratory analysis"
   ]
  },
  {
   "cell_type": "code",
   "execution_count": null,
   "metadata": {},
   "outputs": [],
   "source": []
  },
  {
   "cell_type": "markdown",
   "metadata": {},
   "source": [
    "Database?"
   ]
  },
  {
   "cell_type": "code",
   "execution_count": null,
   "metadata": {},
   "outputs": [],
   "source": []
  },
  {
   "cell_type": "markdown",
   "metadata": {},
   "source": [
    "Search engine=>dashboard"
   ]
  },
  {
   "cell_type": "code",
   "execution_count": 41,
   "metadata": {},
   "outputs": [],
   "source": [
    "import geopandas as gpd\n",
    "from keplergl import KeplerGl\n",
    "import ipywidgets as widgets\n",
    "from IPython.display import display\n",
    "import requests\n",
    "import json"
   ]
  },
  {
   "cell_type": "code",
   "execution_count": 85,
   "metadata": {},
   "outputs": [
    {
     "name": "stdout",
     "output_type": "stream",
     "text": [
      "User Guide: https://docs.kepler.gl/docs/keplergl-jupyter\n"
     ]
    },
    {
     "data": {
      "application/vnd.jupyter.widget-view+json": {
       "model_id": "4ff30df003dc46ab88f2cab8d4706eae",
       "version_major": 2,
       "version_minor": 0
      },
      "text/plain": [
       "KeplerGl(data={'unnamed': {'index': [0], 'columns': ['latitude', 'longitude'], 'data': [[40.718, -74.0733]]}})"
      ]
     },
     "metadata": {},
     "output_type": "display_data"
    }
   ],
   "source": [
    "def get_loc():\n",
    "    ip_request = requests.get('https://get.geojs.io/v1/ip.json')\n",
    "    my_ip = ip_request.json()['ip']\n",
    "    geo_request = requests.get('https://get.geojs.io/v1/ip/geo/' +my_ip + '.json')\n",
    "    geo_data = geo_request.json()\n",
    "    my_la= float(geo_data['latitude'])\n",
    "    my_lo = float(geo_data['longitude'])\n",
    "    loc={'latitude':my_la,\n",
    "         'longitude':my_lo\n",
    "    }\n",
    "    my_loc=pd.DataFrame(loc,index=[0])\n",
    "    return(my_loc)\n",
    "\n",
    "my_loc=get_loc()\n",
    "map_1 = KeplerGl(height=400)\n",
    "map_1.add_data(data=my_loc)\n",
    "map_1  "
   ]
  },
  {
   "cell_type": "code",
   "execution_count": null,
   "metadata": {},
   "outputs": [],
   "source": []
  },
  {
   "cell_type": "code",
   "execution_count": null,
   "metadata": {},
   "outputs": [],
   "source": []
  },
  {
   "cell_type": "markdown",
   "metadata": {},
   "source": [
    "Map"
   ]
  },
  {
   "cell_type": "code",
   "execution_count": 52,
   "metadata": {},
   "outputs": [
    {
     "name": "stdout",
     "output_type": "stream",
     "text": [
      "         latitude  longitude\n",
      "0       40.726187 -73.735234\n",
      "1       40.636868 -73.891586\n",
      "2       40.594145 -73.960415\n",
      "3       40.824340 -73.910365\n",
      "5       40.695469 -73.982825\n",
      "...           ...        ...\n",
      "155502  40.846260 -73.901755\n",
      "155503  40.663302 -73.925425\n",
      "155504  40.623227 -74.149227\n",
      "155505  40.684194 -73.916085\n",
      "155506  40.690226 -73.829932\n",
      "\n",
      "[154011 rows x 2 columns]\n",
      "User Guide: https://docs.kepler.gl/docs/keplergl-jupyter\n"
     ]
    },
    {
     "data": {
      "application/vnd.jupyter.widget-view+json": {
       "model_id": "a9aeb36dd94449c9a435a37dba1f03fa",
       "version_major": 2,
       "version_minor": 0
      },
      "text/plain": [
       "KeplerGl(data={'unnamed': {'index': [0, 1, 2, 3, 5, 7, 8, 10, 11, 12, 13, 14, 16, 17, 18, 19, 20, 22, 23, 24, …"
      ]
     },
     "metadata": {},
     "output_type": "display_data"
    }
   ],
   "source": [
    "map_data=new_data[['latitude','longitude']]\n",
    "print(map_data)\n",
    "map_2 = KeplerGl(height=600)  \n",
    "map_2.add_data(data=map_data.head(100))  \n",
    "map_2  "
   ]
  },
  {
   "cell_type": "code",
   "execution_count": null,
   "metadata": {},
   "outputs": [],
   "source": []
  }
 ],
 "metadata": {
  "interpreter": {
   "hash": "aee8b7b246df8f9039afb4144a1f6fd8d2ca17a180786b69acc140d282b71a49"
  },
  "kernelspec": {
   "display_name": "Python 3 (ipykernel)",
   "language": "python",
   "name": "python3"
  },
  "language_info": {
   "codemirror_mode": {
    "name": "ipython",
    "version": 3
   },
   "file_extension": ".py",
   "mimetype": "text/x-python",
   "name": "python",
   "nbconvert_exporter": "python",
   "pygments_lexer": "ipython3",
   "version": "3.9.7"
  }
 },
 "nbformat": 4,
 "nbformat_minor": 2
}
