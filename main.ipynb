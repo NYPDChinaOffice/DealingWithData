{
 "cells": [
  {
   "cell_type": "markdown",
   "metadata": {},
   "source": [
    "Data cleaning"
   ]
  },
  {
   "cell_type": "code",
   "execution_count": 7,
   "metadata": {},
   "outputs": [
    {
     "name": "stdout",
     "output_type": "stream",
     "text": [
      "<class 'pandas.core.frame.DataFrame'>\n",
      "Int64Index: 154011 entries, 0 to 155506\n",
      "Data columns (total 19 columns):\n",
      " #   Column                    Non-Null Count   Dtype  \n",
      "---  ------                    --------------   -----  \n",
      " 0   ARREST_KEY                154011 non-null  int64  \n",
      " 1   ARREST_DATE               154011 non-null  object \n",
      " 2   PD_CD                     154011 non-null  float64\n",
      " 3   PD_DESC                   154011 non-null  object \n",
      " 4   KY_CD                     154011 non-null  float64\n",
      " 5   OFNS_DESC                 154011 non-null  object \n",
      " 6   LAW_CODE                  154011 non-null  object \n",
      " 7   LAW_CAT_CD                154011 non-null  object \n",
      " 8   ARREST_BORO               154011 non-null  object \n",
      " 9   ARREST_PRECINCT           154011 non-null  int64  \n",
      " 10  JURISDICTION_CODE         154011 non-null  int64  \n",
      " 11  AGE_GROUP                 154011 non-null  object \n",
      " 12  PERP_SEX                  154011 non-null  object \n",
      " 13  PERP_RACE                 154011 non-null  object \n",
      " 14  X_COORD_CD                154011 non-null  int64  \n",
      " 15  Y_COORD_CD                154011 non-null  int64  \n",
      " 16  Latitude                  154011 non-null  float64\n",
      " 17  Longitude                 154011 non-null  float64\n",
      " 18  New Georeferenced Column  154011 non-null  object \n",
      "dtypes: float64(4), int64(5), object(10)\n",
      "memory usage: 23.5+ MB\n"
     ]
    }
   ],
   "source": [
    "import pandas as pd\n",
    "\n",
    "raw_data=pd.read_csv('data/NYPD_Arrest_Data__Year_to_Date_.csv')\n",
    "new_data=raw_data.dropna(how='any')\n",
    "new_data.info()"
   ]
  },
  {
   "cell_type": "code",
   "execution_count": 8,
   "metadata": {},
   "outputs": [],
   "source": [
    "new_data.to_csv('new_data.csv')"
   ]
  },
  {
   "cell_type": "code",
   "execution_count": null,
   "metadata": {},
   "outputs": [],
   "source": []
  },
  {
   "cell_type": "markdown",
   "metadata": {},
   "source": [
    "Data exploratory analysis"
   ]
  },
  {
   "cell_type": "markdown",
   "metadata": {},
   "source": [
    "Data base?"
   ]
  },
  {
   "cell_type": "markdown",
   "metadata": {},
   "source": [
    "Search engine"
   ]
  },
  {
   "cell_type": "code",
   "execution_count": 22,
   "metadata": {},
   "outputs": [
    {
     "name": "stdout",
     "output_type": "stream",
     "text": [
      "User Guide: https://docs.kepler.gl/docs/keplergl-jupyter\n"
     ]
    },
    {
     "data": {
      "application/vnd.jupyter.widget-view+json": {
       "model_id": "1b71a0678edd4ca898d34f4083ab021f",
       "version_major": 2,
       "version_minor": 0
      },
      "text/plain": [
       "KeplerGl(height=600)"
      ]
     },
     "metadata": {},
     "output_type": "display_data"
    }
   ],
   "source": [
    "import geopandas as gpd\n",
    "from keplergl import KeplerGl\n",
    "\n",
    "kep1=KeplerGl(height=600)\n",
    "kep1"
   ]
  },
  {
   "cell_type": "code",
   "execution_count": 21,
   "metadata": {},
   "outputs": [
    {
     "data": {
      "application/vnd.jupyter.widget-view+json": {
       "model_id": "4f82db7cb4f8401d96e3a7971dc72142",
       "version_major": 2,
       "version_minor": 0
      },
      "text/plain": [
       "KeplerGl(data={'csv_kep': {'index': [0, 1, 2, 3, 5, 7, 8, 10, 11, 12, 13, 14, 16, 17, 18, 19, 20, 22, 23, 24, …"
      ]
     },
     "metadata": {},
     "output_type": "display_data"
    }
   ],
   "source": [
    "map_data=new_data[['Latitude','Longitude']]\n",
    "kep1.add_data(data=map_data,name='state')\n",
    "kep1"
   ]
  },
  {
   "cell_type": "markdown",
   "metadata": {},
   "source": [
    "Map"
   ]
  }
 ],
 "metadata": {
  "interpreter": {
   "hash": "aee8b7b246df8f9039afb4144a1f6fd8d2ca17a180786b69acc140d282b71a49"
  },
  "kernelspec": {
   "display_name": "Python 3.9.12 64-bit",
   "language": "python",
   "name": "python3"
  },
  "language_info": {
   "codemirror_mode": {
    "name": "ipython",
    "version": 3
   },
   "file_extension": ".py",
   "mimetype": "text/x-python",
   "name": "python",
   "nbconvert_exporter": "python",
   "pygments_lexer": "ipython3",
   "version": "3.9.7"
  },
  "orig_nbformat": 4
 },
 "nbformat": 4,
 "nbformat_minor": 2
}
