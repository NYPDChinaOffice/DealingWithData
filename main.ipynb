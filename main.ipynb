{
 "cells": [
  {
   "cell_type": "markdown",
   "metadata": {},
   "source": [
    "## Data cleaning"
   ]
  },
  {
   "cell_type": "code",
   "execution_count": 68,
   "metadata": {},
   "outputs": [
    {
     "name": "stdout",
     "output_type": "stream",
     "text": [
      "<class 'pandas.core.frame.DataFrame'>\n",
      "RangeIndex: 154011 entries, 0 to 154010\n",
      "Data columns (total 20 columns):\n",
      " #   Column             Non-Null Count   Dtype  \n",
      "---  ------             --------------   -----  \n",
      " 0   index              154011 non-null  int64  \n",
      " 1   arrest_key         154011 non-null  int64  \n",
      " 2   arrest_date        154011 non-null  object \n",
      " 3   pd_cd              154011 non-null  float64\n",
      " 4   pd_desc            154011 non-null  object \n",
      " 5   ky_cd              154011 non-null  float64\n",
      " 6   ofns_desc          154011 non-null  object \n",
      " 7   law_code           154011 non-null  object \n",
      " 8   law_cat_cd         154011 non-null  object \n",
      " 9   arrest_boro        154011 non-null  object \n",
      " 10  arrest_precinct    154011 non-null  int64  \n",
      " 11  jurisdiction_code  154011 non-null  int64  \n",
      " 12  age_group          154011 non-null  object \n",
      " 13  perp_sex           154011 non-null  object \n",
      " 14  perp_race          154011 non-null  object \n",
      " 15  x_coord_cd         154011 non-null  int64  \n",
      " 16  y_coord_cd         154011 non-null  int64  \n",
      " 17  latitude           154011 non-null  float64\n",
      " 18  longitude          154011 non-null  float64\n",
      " 19  geocoded_column    154011 non-null  object \n",
      "dtypes: float64(4), int64(6), object(10)\n",
      "memory usage: 23.5+ MB\n"
     ]
    }
   ],
   "source": [
    "import pandas as pd\n",
    "pd.options.mode.chained_assignment = None \n",
    "\n",
    "# read the data from NYC OpenData\n",
    "raw_data=pd.read_csv('https://data.cityofnewyork.us/resource/uip8-fykc.csv?$limit=200000')\n",
    "new_data=raw_data.dropna(how='any')\n",
    "new_data= new_data.reset_index()\n",
    "new_data.info()"
   ]
  },
  {
   "cell_type": "code",
   "execution_count": 69,
   "metadata": {},
   "outputs": [
    {
     "data": {
      "text/html": [
       "<div>\n",
       "<style scoped>\n",
       "    .dataframe tbody tr th:only-of-type {\n",
       "        vertical-align: middle;\n",
       "    }\n",
       "\n",
       "    .dataframe tbody tr th {\n",
       "        vertical-align: top;\n",
       "    }\n",
       "\n",
       "    .dataframe thead th {\n",
       "        text-align: right;\n",
       "    }\n",
       "</style>\n",
       "<table border=\"1\" class=\"dataframe\">\n",
       "  <thead>\n",
       "    <tr style=\"text-align: right;\">\n",
       "      <th></th>\n",
       "      <th>index</th>\n",
       "      <th>arrest_key</th>\n",
       "      <th>arrest_date</th>\n",
       "      <th>pd_cd</th>\n",
       "      <th>pd_desc</th>\n",
       "      <th>ky_cd</th>\n",
       "      <th>ofns_desc</th>\n",
       "      <th>law_code</th>\n",
       "      <th>law_cat_cd</th>\n",
       "      <th>arrest_boro</th>\n",
       "      <th>arrest_precinct</th>\n",
       "      <th>jurisdiction_code</th>\n",
       "      <th>age_group</th>\n",
       "      <th>perp_sex</th>\n",
       "      <th>perp_race</th>\n",
       "      <th>x_coord_cd</th>\n",
       "      <th>y_coord_cd</th>\n",
       "      <th>latitude</th>\n",
       "      <th>longitude</th>\n",
       "      <th>geocoded_column</th>\n",
       "    </tr>\n",
       "  </thead>\n",
       "  <tbody>\n",
       "    <tr>\n",
       "      <th>0</th>\n",
       "      <td>0</td>\n",
       "      <td>238013474</td>\n",
       "      <td>2021-12-18T00:00:00.000</td>\n",
       "      <td>157.0</td>\n",
       "      <td>RAPE_1</td>\n",
       "      <td>104.0</td>\n",
       "      <td>RAPE</td>\n",
       "      <td>PL 1303501</td>\n",
       "      <td>F</td>\n",
       "      <td>Queens</td>\n",
       "      <td>105</td>\n",
       "      <td>97</td>\n",
       "      <td>18-24</td>\n",
       "      <td>M</td>\n",
       "      <td>BLACK</td>\n",
       "      <td>1057636</td>\n",
       "      <td>203954</td>\n",
       "      <td>40.726187</td>\n",
       "      <td>-73.735234</td>\n",
       "      <td>POINT (-73.73523390399998 40.72618713000002)</td>\n",
       "    </tr>\n",
       "    <tr>\n",
       "      <th>1</th>\n",
       "      <td>1</td>\n",
       "      <td>236943583</td>\n",
       "      <td>2021-11-25T00:00:00.000</td>\n",
       "      <td>263.0</td>\n",
       "      <td>ARSON_2,3,4</td>\n",
       "      <td>114.0</td>\n",
       "      <td>ARSON</td>\n",
       "      <td>PL 1501500</td>\n",
       "      <td>F</td>\n",
       "      <td>Brooklyn</td>\n",
       "      <td>69</td>\n",
       "      <td>71</td>\n",
       "      <td>25-44</td>\n",
       "      <td>M</td>\n",
       "      <td>BLACK</td>\n",
       "      <td>1014340</td>\n",
       "      <td>171320</td>\n",
       "      <td>40.636868</td>\n",
       "      <td>-73.891586</td>\n",
       "      <td>POINT (-73.89158591899997 40.63686750900007)</td>\n",
       "    </tr>\n",
       "    <tr>\n",
       "      <th>2</th>\n",
       "      <td>2</td>\n",
       "      <td>234938876</td>\n",
       "      <td>2021-10-14T00:00:00.000</td>\n",
       "      <td>594.0</td>\n",
       "      <td>OBSCENITY_1</td>\n",
       "      <td>116.0</td>\n",
       "      <td>SEX CRIMES</td>\n",
       "      <td>PL 2631100</td>\n",
       "      <td>F</td>\n",
       "      <td>Brooklyn</td>\n",
       "      <td>61</td>\n",
       "      <td>0</td>\n",
       "      <td>25-44</td>\n",
       "      <td>M</td>\n",
       "      <td>WHITE</td>\n",
       "      <td>995244</td>\n",
       "      <td>155739</td>\n",
       "      <td>40.594145</td>\n",
       "      <td>-73.960415</td>\n",
       "      <td>POINT (-73.96041495199995 40.59414516900005)</td>\n",
       "    </tr>\n",
       "    <tr>\n",
       "      <th>3</th>\n",
       "      <td>3</td>\n",
       "      <td>234788259</td>\n",
       "      <td>2021-10-11T00:00:00.000</td>\n",
       "      <td>263.0</td>\n",
       "      <td>ARSON_2,3,4</td>\n",
       "      <td>114.0</td>\n",
       "      <td>ARSON</td>\n",
       "      <td>PL 1501001</td>\n",
       "      <td>F</td>\n",
       "      <td>Bronx</td>\n",
       "      <td>42</td>\n",
       "      <td>71</td>\n",
       "      <td>18-24</td>\n",
       "      <td>M</td>\n",
       "      <td>BLACK</td>\n",
       "      <td>1009058</td>\n",
       "      <td>239616</td>\n",
       "      <td>40.824340</td>\n",
       "      <td>-73.910365</td>\n",
       "      <td>POINT (-73.91036538099996 40.82433953100008)</td>\n",
       "    </tr>\n",
       "    <tr>\n",
       "      <th>4</th>\n",
       "      <td>5</td>\n",
       "      <td>234117071</td>\n",
       "      <td>2021-09-27T00:00:00.000</td>\n",
       "      <td>157.0</td>\n",
       "      <td>RAPE_1</td>\n",
       "      <td>104.0</td>\n",
       "      <td>RAPE</td>\n",
       "      <td>PL 1303501</td>\n",
       "      <td>F</td>\n",
       "      <td>Brooklyn</td>\n",
       "      <td>84</td>\n",
       "      <td>0</td>\n",
       "      <td>25-44</td>\n",
       "      <td>M</td>\n",
       "      <td>BLACK</td>\n",
       "      <td>989013</td>\n",
       "      <td>192652</td>\n",
       "      <td>40.695469</td>\n",
       "      <td>-73.982825</td>\n",
       "      <td>POINT (-73.98282507899995 40.69546894100006)</td>\n",
       "    </tr>\n",
       "  </tbody>\n",
       "</table>\n",
       "</div>"
      ],
      "text/plain": [
       "   index  arrest_key              arrest_date  pd_cd      pd_desc  ky_cd  \\\n",
       "0      0   238013474  2021-12-18T00:00:00.000  157.0       RAPE_1  104.0   \n",
       "1      1   236943583  2021-11-25T00:00:00.000  263.0  ARSON_2,3,4  114.0   \n",
       "2      2   234938876  2021-10-14T00:00:00.000  594.0  OBSCENITY_1  116.0   \n",
       "3      3   234788259  2021-10-11T00:00:00.000  263.0  ARSON_2,3,4  114.0   \n",
       "4      5   234117071  2021-09-27T00:00:00.000  157.0       RAPE_1  104.0   \n",
       "\n",
       "    ofns_desc    law_code law_cat_cd arrest_boro  arrest_precinct  \\\n",
       "0        RAPE  PL 1303501          F      Queens              105   \n",
       "1       ARSON  PL 1501500          F    Brooklyn               69   \n",
       "2  SEX CRIMES  PL 2631100          F    Brooklyn               61   \n",
       "3       ARSON  PL 1501001          F       Bronx               42   \n",
       "4        RAPE  PL 1303501          F    Brooklyn               84   \n",
       "\n",
       "   jurisdiction_code age_group perp_sex perp_race  x_coord_cd  y_coord_cd  \\\n",
       "0                 97     18-24        M     BLACK     1057636      203954   \n",
       "1                 71     25-44        M     BLACK     1014340      171320   \n",
       "2                  0     25-44        M     WHITE      995244      155739   \n",
       "3                 71     18-24        M     BLACK     1009058      239616   \n",
       "4                  0     25-44        M     BLACK      989013      192652   \n",
       "\n",
       "    latitude  longitude                               geocoded_column  \n",
       "0  40.726187 -73.735234  POINT (-73.73523390399998 40.72618713000002)  \n",
       "1  40.636868 -73.891586  POINT (-73.89158591899997 40.63686750900007)  \n",
       "2  40.594145 -73.960415  POINT (-73.96041495199995 40.59414516900005)  \n",
       "3  40.824340 -73.910365  POINT (-73.91036538099996 40.82433953100008)  \n",
       "4  40.695469 -73.982825  POINT (-73.98282507899995 40.69546894100006)  "
      ]
     },
     "execution_count": 69,
     "metadata": {},
     "output_type": "execute_result"
    }
   ],
   "source": [
    "# convert arrest_boro to 'Bronx','Staten Island','Brooklyn','Manhattan','Queens'\n",
    "new_data['arrest_boro'] = new_data['arrest_boro'].replace(['B','S','K','M','Q'],['Bronx','Staten_Island','Brooklyn','Manhattan','Queens'])\n",
    "\n",
    "# replace space in new_data['pd_desc'] with \"_\"\n",
    "new_data['pd_desc'] = new_data['pd_desc'].str.replace(\" \",\"_\")\n",
    "\n",
    "new_data_geo=new_data\n",
    "new_data.head()"
   ]
  },
  {
   "cell_type": "code",
   "execution_count": 70,
   "metadata": {},
   "outputs": [
    {
     "name": "stdout",
     "output_type": "stream",
     "text": [
      "[1, 5, 6, 7, 9, 10, 13, 14, 17, 18, 19, 20, 22, 23, 24, 25, 26, 28, 30, 32, 33, 34, 40, 41, 42, 43, 44, 45, 46, 47, 48, 49, 50, 52, 60, 61, 62, 63, 66, 67, 68, 69, 70, 71, 72, 73, 75, 76, 77, 78, 79, 81, 83, 84, 88, 90, 94, 100, 101, 102, 103, 104, 105, 106, 107, 108, 109, 110, 111, 112, 113, 114, 115, 120, 121, 122, 123]\n"
     ]
    }
   ],
   "source": [
    "precinct_number=new_data.arrest_precinct.unique().tolist()\n",
    "precinct_number.sort()\n",
    "print(precinct_number)"
   ]
  },
  {
   "cell_type": "code",
   "execution_count": 71,
   "metadata": {},
   "outputs": [
    {
     "name": "stdout",
     "output_type": "stream",
     "text": [
      "         index  arrest_key              arrest_date  pd_cd  \\\n",
      "0            0   238013474  2021-12-18T00:00:00.000  157.0   \n",
      "1            1   236943583  2021-11-25T00:00:00.000  263.0   \n",
      "2            2   234938876  2021-10-14T00:00:00.000  594.0   \n",
      "3            3   234788259  2021-10-11T00:00:00.000  263.0   \n",
      "4            5   234117071  2021-09-27T00:00:00.000  157.0   \n",
      "...        ...         ...                      ...    ...   \n",
      "154006  155502   222884924  2021-01-10T00:00:00.000  397.0   \n",
      "154007  155503   223918625  2021-02-03T00:00:00.000  792.0   \n",
      "154008  155504   224323770  2021-02-13T00:00:00.000  101.0   \n",
      "154009  155505   222599533  2021-01-04T00:00:00.000  792.0   \n",
      "154010  155506   224056881  2021-02-06T00:00:00.000  268.0   \n",
      "\n",
      "                               pd_desc  ky_cd ofns_desc    law_code  \\\n",
      "0                               RAPE_1  104.0      RAPE  PL 1303501   \n",
      "1                          ARSON_2,3,4  114.0    OTHERS  PL 1501500   \n",
      "2                          OBSCENITY_1  116.0    OTHERS  PL 2631100   \n",
      "3                          ARSON_2,3,4  114.0    OTHERS  PL 1501001   \n",
      "4                               RAPE_1  104.0      RAPE  PL 1303501   \n",
      "...                                ...    ...       ...         ...   \n",
      "154006  ROBBERY,OPEN_AREA_UNCLASSIFIED  105.0   ROBBERY  PL 1601001   \n",
      "154007        WEAPONS_POSSESSION_1_&_2  118.0    OTHERS  PL 2650303   \n",
      "154008                       ASSAULT_3  344.0    OTHERS  PL 1200001   \n",
      "154009        WEAPONS_POSSESSION_1_&_2  118.0    OTHERS  PL 2650303   \n",
      "154010              CRIMINAL_MIS_2_&_3  121.0    OTHERS  PL 1451000   \n",
      "\n",
      "       law_cat_cd    arrest_boro  arrest_precinct  jurisdiction_code  \\\n",
      "0               F         Queens              105                 97   \n",
      "1               F       Brooklyn               69                 71   \n",
      "2               F       Brooklyn               61                  0   \n",
      "3               F          Bronx               42                 71   \n",
      "4               F       Brooklyn               84                  0   \n",
      "...           ...            ...              ...                ...   \n",
      "154006          F          Bronx               46                  0   \n",
      "154007          F       Brooklyn               67                  0   \n",
      "154008          M  Staten_Island              121                  0   \n",
      "154009          F       Brooklyn               73                  0   \n",
      "154010          F         Queens              102                  0   \n",
      "\n",
      "       age_group perp_sex                 perp_race  x_coord_cd  y_coord_cd  \\\n",
      "0          18-24        M                     BLACK     1057636      203954   \n",
      "1          25-44        M                     BLACK     1014340      171320   \n",
      "2          25-44        M                     WHITE      995244      155739   \n",
      "3          18-24        M                     BLACK     1009058      239616   \n",
      "4          25-44        M                     BLACK      989013      192652   \n",
      "...          ...      ...                       ...         ...         ...   \n",
      "154006     45-64        M                     BLACK     1011432      247605   \n",
      "154007     18-24        M                     BLACK     1004940      180941   \n",
      "154008     45-64        M                     BLACK      942825      166367   \n",
      "154009     25-44        M                     BLACK     1007524      188555   \n",
      "154010     18-24        M  ASIAN / PACIFIC ISLANDER     1031414      190787   \n",
      "\n",
      "         latitude  longitude                                geocoded_column  \n",
      "0       40.726187 -73.735234   POINT (-73.73523390399998 40.72618713000002)  \n",
      "1       40.636868 -73.891586   POINT (-73.89158591899997 40.63686750900007)  \n",
      "2       40.594145 -73.960415   POINT (-73.96041495199995 40.59414516900005)  \n",
      "3       40.824340 -73.910365   POINT (-73.91036538099996 40.82433953100008)  \n",
      "4       40.695469 -73.982825   POINT (-73.98282507899995 40.69546894100006)  \n",
      "...           ...        ...                                            ...  \n",
      "154006  40.846260 -73.901755  POINT (-73.90175529499999 40.846260031000035)  \n",
      "154007  40.663302 -73.925425   POINT (-73.92542497899994 40.66330200400005)  \n",
      "154008  40.623227 -74.149227  POINT (-74.14922697299994 40.623226819000074)  \n",
      "154009  40.684194 -73.916085  POINT (-73.91608474599997 40.684194302000044)  \n",
      "154010  40.690226 -73.829932   POINT (-73.82993153599993 40.69022556600004)  \n",
      "\n",
      "[154011 rows x 20 columns]\n"
     ]
    }
   ],
   "source": [
    "#Set up six crime types\n",
    "new_data_geo.loc[new_data_geo[\"ofns_desc\"].str.contains('FELONY'),\"ofns_desc\"] = 'FELONY'\n",
    "new_data_geo.loc[new_data_geo[\"ofns_desc\"].str.contains('LARCENY'),\"ofns_desc\"] = 'LARCENY'\n",
    "new_data_geo.loc[new_data_geo[\"ofns_desc\"].str.contains('MURDER'),\"ofns_desc\"] = 'MURDER'\n",
    "new_data_geo.loc[new_data_geo[\"ofns_desc\"].str.contains('RAPE'),\"ofns_desc\"] = 'RAPE'\n",
    "new_data_geo.loc[new_data_geo[\"ofns_desc\"].str.contains('ROBBERY'),\"ofns_desc\"] = 'ROBBERY'\n",
    "new_data_geo.loc[~new_data_geo[\"ofns_desc\"].str.contains('ROBBERY|RAPE|MURDER|LARCENY|FELONY'),\"ofns_desc\"] = 'OTHERS'\n",
    "new_data_geo.head()\n",
    "print(new_data)"
   ]
  },
  {
   "cell_type": "code",
   "execution_count": 72,
   "metadata": {},
   "outputs": [
    {
     "name": "stdout",
     "output_type": "stream",
     "text": [
      "all the felony percentage:\n",
      "[5.147, 10.661, 7.908, 9.739, 8.233, 9.348, 9.095, 7.077, 9.305, 5.128, 6.153, 6.807, 12.0, 13.829, 8.094, 8.178, 10.978, 7.109, 9.258, 13.188, 10.718, 11.103, 9.718, 12.283, 13.906, 12.824, 12.543, 12.727, 11.832, 12.12, 10.772, 13.943, 8.256, 10.46, 12.737, 12.559, 9.03, 9.249, 13.405, 14.95, 6.042, 11.135, 13.141, 11.93, 8.358, 15.152, 14.88, 8.973, 11.105, 9.216, 9.622, 13.815, 10.54, 9.017, 11.954, 9.308, 7.31, 11.138, 14.825, 10.677, 12.434, 11.182, 14.333, 13.777, 8.517, 10.211, 6.456, 12.954, 10.116, 7.101, 8.765, 9.271, 10.368, 9.097, 8.111, 9.274, 4.266]\n",
      "all the larceny percentage:\n",
      "[37.131, 17.904, 22.113, 23.201, 17.488, 15.947, 30.482, 27.064, 27.594, 42.266, 40.738, 40.04, 16.0, 9.111, 21.873, 6.729, 13.972, 18.453, 13.07, 5.975, 19.961, 8.668, 8.457, 5.399, 8.003, 10.584, 9.258, 14.68, 9.052, 7.232, 6.712, 11.735, 18.596, 14.101, 10.499, 12.964, 15.251, 19.169, 17.158, 5.615, 10.278, 5.712, 14.967, 7.317, 15.29, 5.866, 12.14, 9.103, 5.13, 22.881, 10.266, 5.33, 6.304, 25.638, 7.816, 12.47, 17.766, 7.506, 4.987, 7.678, 9.836, 11.394, 7.613, 10.581, 11.213, 9.289, 21.681, 21.941, 6.647, 16.957, 8.891, 12.799, 8.207, 8.405, 15.253, 9.125, 10.665]\n",
      "all the murder percentage:\n",
      "[0.521, 1.549, 0.35, 0.558, 0.361, 0.314, 0.098, 0.337, 0.321, 0.124, 0.324, 0.501, 0.0, 2.549, 0.736, 1.173, 0.798, 1.307, 1.293, 2.945, 0.787, 3.438, 1.83, 1.486, 1.312, 0.767, 0.919, 0.875, 1.884, 2.025, 2.331, 1.262, 1.312, 0.648, 0.602, 0.27, 0.334, 0.871, 0.179, 0.731, 0.139, 0.651, 0.913, 0.954, 0.737, 0.932, 0.945, 0.91, 1.481, 0.106, 1.127, 1.753, 1.109, 2.77, 0.575, 0.835, 0.609, 0.726, 2.089, 0.954, 1.454, 0.159, 1.034, 0.786, 0.613, 0.725, 0.447, 0.633, 0.289, 0.0, 1.131, 0.671, 0.28, 0.899, 0.046, 0.224, 0.251]\n",
      "all the rape percentage:\n",
      "[0.174, 2.597, 0.28, 0.0, 0.3, 0.079, 0.197, 0.042, 0.107, 0.0, 0.259, 0.0, 2.0, 0.163, 0.268, 0.242, 0.2, 0.105, 0.068, 0.085, 0.098, 0.0, 0.247, 3.962, 0.262, 0.413, 0.184, 0.135, 0.525, 0.145, 0.241, 0.379, 0.231, 0.309, 0.129, 0.135, 0.067, 0.134, 0.179, 0.166, 0.139, 0.145, 0.152, 0.212, 0.295, 0.272, 0.165, 0.13, 4.548, 0.0, 0.04, 0.0, 0.151, 0.652, 0.23, 0.119, 0.203, 0.0, 0.337, 0.182, 0.124, 0.106, 0.376, 0.052, 0.306, 0.329, 0.041, 0.295, 0.145, 6.232, 0.157, 0.262, 0.2, 0.83, 0.184, 0.075, 0.0]\n",
      "all the robbery percentage:\n",
      "[5.147, 4.419, 10.847, 5.087, 4.267, 8.562, 6.047, 5.56, 3.85, 4.508, 5.699, 6.206, 14.0, 5.26, 7.023, 3.865, 4.391, 3.502, 4.152, 4.652, 5.9, 5.802, 5.242, 9.46, 5.871, 8.048, 5.353, 4.108, 5.159, 5.004, 5.547, 11.924, 4.09, 5.523, 5.723, 4.524, 3.545, 4.223, 3.664, 4.585, 2.014, 1.735, 3.907, 3.181, 5.851, 4.934, 8.999, 3.381, 8.884, 4.767, 5.153, 6.381, 6.253, 3.422, 7.816, 4.236, 3.756, 2.3, 4.313, 3.135, 5.011, 4.028, 4.558, 5.134, 6.679, 3.096, 5.968, 5.232, 1.734, 2.971, 2.985, 3.499, 5.044, 3.77, 1.843, 1.421, 0.627]\n",
      "all the others percentage:\n",
      "[51.88, 62.87, 58.502, 61.414, 69.351, 65.75, 54.081, 59.92, 58.824, 47.974, 46.826, 46.446, 56.0, 69.089, 62.007, 79.814, 69.661, 69.524, 72.158, 73.154, 62.537, 70.989, 74.505, 67.41, 70.646, 67.364, 71.744, 67.475, 71.548, 73.474, 74.397, 60.757, 67.515, 68.96, 70.31, 69.548, 71.773, 66.354, 65.416, 73.953, 81.389, 80.622, 66.92, 76.405, 69.469, 72.844, 62.872, 77.503, 68.852, 63.03, 73.792, 72.721, 75.643, 58.501, 71.609, 73.031, 70.355, 78.329, 73.45, 77.374, 71.141, 73.132, 72.086, 69.67, 72.672, 76.35, 65.408, 58.945, 81.069, 66.739, 78.071, 73.499, 75.901, 76.998, 74.562, 79.88, 84.191]\n"
     ]
    }
   ],
   "source": [
    "#Pick out the id in the loop, and then find the crime in the corresponding precinct from the new_data\n",
    "all_felony_percentage = []\n",
    "all_larceny_percentage = []\n",
    "all_murder_percentage = []\n",
    "all_rape_percentage = []\n",
    "all_robbery_percentage = []\n",
    "all_others_percentage = []\n",
    "for precinct in precinct_number:\n",
    "  #get the new_data that only contain the data of this precinct\n",
    "  #print(\"in precinct\",precinct)\n",
    "  only_left_precinct = new_data_geo.copy()\n",
    "  only_left_precinct.drop(only_left_precinct[(only_left_precinct.arrest_precinct != precinct)].index,inplace=True)\n",
    "  #print(\"droped new_data\")\n",
    "  #print(only_left_precinct)\n",
    "  \n",
    "  entire_crime_number = len(only_left_precinct)\n",
    "  #The percentage of felony\n",
    "  felony_percentage = ((only_left_precinct[\"ofns_desc\"] == \"FELONY\").sum())/entire_crime_number * 100\n",
    "  all_felony_percentage.append(round(felony_percentage,3))\n",
    "  larceny_percentage = ((only_left_precinct[\"ofns_desc\"] == \"LARCENY\").sum())/entire_crime_number * 100\n",
    "  all_larceny_percentage.append(round(larceny_percentage,3))\n",
    "  murder_percentage = ((only_left_precinct[\"ofns_desc\"] == \"MURDER\").sum())/entire_crime_number * 100\n",
    "  all_murder_percentage.append(round(murder_percentage,3))\n",
    "  rape_percentage = ((only_left_precinct[\"ofns_desc\"] == \"RAPE\").sum())/entire_crime_number * 100\n",
    "  all_rape_percentage.append(round(rape_percentage,3))\n",
    "  robbery_percentage = ((only_left_precinct[\"ofns_desc\"] == \"ROBBERY\").sum())/entire_crime_number * 100\n",
    "  all_robbery_percentage.append(round(robbery_percentage,3))\n",
    "  others_percentage = ((only_left_precinct[\"ofns_desc\"] == \"OTHERS\").sum())/entire_crime_number * 100\n",
    "  all_others_percentage.append(round(others_percentage,3))\n",
    "  \n",
    "print(\"all the felony percentage:\")\n",
    "print(all_felony_percentage)\n",
    "print(\"all the larceny percentage:\")\n",
    "print(all_larceny_percentage)\n",
    "print(\"all the murder percentage:\")\n",
    "print(all_murder_percentage)\n",
    "print(\"all the rape percentage:\")\n",
    "print(all_rape_percentage)\n",
    "print(\"all the robbery percentage:\")\n",
    "print(all_robbery_percentage)\n",
    "print(\"all the others percentage:\")\n",
    "print(all_others_percentage)\n"
   ]
  },
  {
   "cell_type": "code",
   "execution_count": 73,
   "metadata": {},
   "outputs": [
    {
     "data": {
      "text/plain": [
       "'\\nprint(\"felony:\")\\nprint(felony_property_percentage)\\nprint(\"larceny\")\\nprint(larceny_property_percentage)\\nprint(\"murder\")\\nprint(murder_property_percentage)\\nprint(\"rape\")\\nprint(rape_property_percentage)\\nprint(\"robbery\")\\nprint(robbery_property_percentage)\\nprint(\"others\")\\nprint(others_property_percentage)\\n'"
      ]
     },
     "execution_count": 73,
     "metadata": {},
     "output_type": "execute_result"
    }
   ],
   "source": [
    "def get_properties_percentage(percentage_list,crime_type):\n",
    "      result_list = []\n",
    "      for k in range(0,len(all_felony_percentage)):\n",
    "        precinct_percentage = []\n",
    "        precinct_percentage.append(crime_type)\n",
    "        precinct_percentage.append(percentage_list[k])\n",
    "        result_list.append(precinct_percentage)\n",
    "      return result_list\n",
    "\n",
    "\n",
    "\n",
    "#get \"FELONY\",\"LARCENY\",\"MURDER\",\"RAPE\",\"ROBBERY\",\"OTHERS\"\n",
    "\n",
    "felony_property_percentage = get_properties_percentage(all_felony_percentage,\"FELONY\")\n",
    "larceny_property_percentage = get_properties_percentage(all_larceny_percentage,\"LARCENY\")\n",
    "murder_property_percentage = get_properties_percentage(all_murder_percentage,\"MURDER\")\n",
    "rape_property_percentage = get_properties_percentage(all_rape_percentage,\"RAPE\")\n",
    "robbery_property_percentage = get_properties_percentage(all_robbery_percentage,\"ROBBERY\")\n",
    "others_property_percentage = get_properties_percentage(all_others_percentage,\"OTHERS\")\n",
    "'''\n",
    "print(\"felony:\")\n",
    "print(felony_property_percentage)\n",
    "print(\"larceny\")\n",
    "print(larceny_property_percentage)\n",
    "print(\"murder\")\n",
    "print(murder_property_percentage)\n",
    "print(\"rape\")\n",
    "print(rape_property_percentage)\n",
    "print(\"robbery\")\n",
    "print(robbery_property_percentage)\n",
    "print(\"others\")\n",
    "print(others_property_percentage)\n",
    "'''\n"
   ]
  },
  {
   "cell_type": "code",
   "execution_count": 74,
   "metadata": {},
   "outputs": [],
   "source": [
    "import json\n",
    "\n",
    "with open(\"precincts.geojson\", \"r\") as f:\n",
    "    map_data = json.load(f)\n",
    "\n",
    "def add_property(property_list,map_data):\n",
    "    for t in range(0,len(map_data[\"features\"])):\n",
    "        feat = map_data[\"features\"][t]\n",
    "        feat[\"properties\"][property_list[t][0]] = property_list[t][1]\n",
    "    return map_data\n",
    "\n",
    "map_data = add_property(felony_property_percentage,map_data)\n",
    "map_data = add_property(larceny_property_percentage,map_data)\n",
    "map_data = add_property(murder_property_percentage,map_data)\n",
    "map_data = add_property(rape_property_percentage,map_data)\n",
    "map_data = add_property(robbery_property_percentage,map_data)\n",
    "map_data = add_property(others_property_percentage,map_data)\n",
    "\n",
    "with open(\"final.geojson\",\"w\") as f:\n",
    "    json.dump(map_data,f)"
   ]
  },
  {
   "cell_type": "code",
   "execution_count": 75,
   "metadata": {},
   "outputs": [
    {
     "name": "stdout",
     "output_type": "stream",
     "text": [
      "User Guide: https://docs.kepler.gl/docs/keplergl-jupyter\n"
     ]
    },
    {
     "data": {
      "application/vnd.jupyter.widget-view+json": {
       "model_id": "dc6e6b601b7c40868960cf62c72c894b",
       "version_major": 2,
       "version_minor": 0
      },
      "text/plain": [
       "KeplerGl(data={'geojson': {'type': 'FeatureCollection', 'features': [{'type': 'Feature', 'properties': {'preci…"
      ]
     },
     "metadata": {},
     "output_type": "display_data"
    }
   ],
   "source": [
    "from keplergl import KeplerGl\n",
    "map_1 = KeplerGl()\n",
    "map_1.add_data(data=map_data, name='geojson')\n",
    "map_1"
   ]
  },
  {
   "cell_type": "markdown",
   "metadata": {},
   "source": [
    "## Data exploratory analysis(maybe not)"
   ]
  },
  {
   "cell_type": "code",
   "execution_count": 76,
   "metadata": {},
   "outputs": [],
   "source": [
    "import matplotlib.pyplot as plt\n",
    "import seaborn as sns"
   ]
  },
  {
   "cell_type": "markdown",
   "metadata": {},
   "source": [
    "## Database"
   ]
  },
  {
   "cell_type": "code",
   "execution_count": 77,
   "metadata": {},
   "outputs": [],
   "source": [
    "import sqlite3\n",
    "con = sqlite3.connect('nypd_data.db')\n",
    "#new_data.to_sql(name='data_a',con=con)"
   ]
  },
  {
   "cell_type": "markdown",
   "metadata": {},
   "source": [
    "## Dashboard"
   ]
  },
  {
   "cell_type": "code",
   "execution_count": 78,
   "metadata": {},
   "outputs": [],
   "source": [
    "import ipywidgets as widgets\n",
    "from ipywidgets import interact\n",
    "from IPython.display import display\n",
    "from keplergl import KeplerGl\n",
    "import requests\n",
    "import numpy as np\n",
    "from pandas.api.types import CategoricalDtype\n",
    "import geopandas"
   ]
  },
  {
   "cell_type": "code",
   "execution_count": 79,
   "metadata": {
    "scrolled": true
   },
   "outputs": [
    {
     "data": {
      "application/vnd.jupyter.widget-view+json": {
       "model_id": "67c297aff9774a35aeec82101e86c4ae",
       "version_major": 2,
       "version_minor": 0
      },
      "text/plain": [
       "interactive(children=(Dropdown(description='select boro', options=('ALL', 'Bronx', 'Brooklyn', 'Manhattan', 'Q…"
      ]
     },
     "metadata": {},
     "output_type": "display_data"
    },
    {
     "data": {
      "text/plain": [
       "<function __main__.draw_box(change)>"
      ]
     },
     "execution_count": 79,
     "metadata": {},
     "output_type": "execute_result"
    }
   ],
   "source": [
    "ALL='ALL'\n",
    "def unique_val(arr):\n",
    "    unique=arr.unique().tolist()\n",
    "    unique.sort()\n",
    "    unique.insert(0,ALL)\n",
    "    return unique\n",
    "\n",
    "drop_boro=widgets.Dropdown(\n",
    "    options= unique_val(new_data.arrest_boro),\n",
    "    value=ALL,\n",
    "    description='select boro'\n",
    ")\n",
    "\n",
    "def boro_date(change):\n",
    "    #'Bronx','Staten Island','Brooklyn','Manhattan','Queens'\n",
    "    if change==ALL:\n",
    "        data=pd.read_sql(\"SELECT arrest_date, count(arrest_date) FROM data_a GROUP BY arrest_date\",con=con)\n",
    "    elif change=='Bronx':\n",
    "        data=pd.read_sql(\"SELECT arrest_date, count(arrest_date) FROM data_a where arrest_boro=='Bronx' GROUP BY arrest_date\",con=con)\n",
    "    elif change=='Brooklyn':\n",
    "        data=pd.read_sql(\"SELECT arrest_date, count(arrest_date) FROM data_a where arrest_boro=='Brooklyn' GROUP BY arrest_date\",con=con)\n",
    "    elif change=='Manhattan':\n",
    "        data=pd.read_sql(\"SELECT arrest_date, count(arrest_date) FROM data_a where arrest_boro=='Manhattan' GROUP BY arrest_date\",con=con)\n",
    "    elif change=='Queens':\n",
    "        data=pd.read_sql(\"SELECT arrest_date, count(arrest_date) FROM data_a where arrest_boro=='Queens' GROUP BY arrest_date\",con=con)\n",
    "    elif change=='Staten_Island':\n",
    "        data=pd.read_sql(\"SELECT arrest_date, count(arrest_date) FROM data_a where arrest_boro=='Staten_Island' GROUP BY arrest_date\",con=con)\n",
    "    data['arrest_date'] = pd.to_datetime(data['arrest_date'],format='%Y/%m/%d')\n",
    "    return data\n",
    "\n",
    "def boro_ofns(change):\n",
    "    if change==ALL:\n",
    "        data=pd.read_sql(\"SELECT ofns_desc, count(ofns_desc) FROM data_a GROUP BY ofns_desc LIMIT 5\",con=con)\n",
    "    elif change=='Bronx':\n",
    "        data=pd.read_sql(\"SELECT ofns_desc, count(ofns_desc) FROM data_a where arrest_boro=='Bronx' GROUP BY ofns_desc LIMIT 5\",con=con)\n",
    "    elif change=='Brooklyn':\n",
    "        data=pd.read_sql(\"SELECT ofns_desc, count(ofns_desc) FROM data_a where arrest_boro=='Brooklyn' GROUP BY ofns_desc LIMIT 5\",con=con)\n",
    "    elif change=='Manhattan':\n",
    "        data=pd.read_sql(\"SELECT ofns_desc, count(ofns_desc) FROM data_a where arrest_boro=='Manhattan' GROUP BY ofns_desc LIMIT 5\",con=con)\n",
    "    elif change=='Queens':\n",
    "        data=pd.read_sql(\"SELECT ofns_desc, count(ofns_desc) FROM data_a where arrest_boro=='Queens' GROUP BY ofns_desc LIMIT 5\",con=con)\n",
    "    elif change=='Staten_Island':\n",
    "        data=pd.read_sql(\"SELECT ofns_desc, count(ofns_desc) FROM data_a where arrest_boro=='Staten_Island' GROUP BY ofns_desc LIMIT 5\",con=con)\n",
    "    return data\n",
    "    \n",
    "\n",
    "def boro_sex(change):\n",
    "    if change==ALL:\n",
    "        data=pd.read_sql(\"SELECT perp_sex,age_group, count(age_group) FROM data_a GROUP BY perp_sex,age_group\",con=con)\n",
    "    elif change=='Bronx':\n",
    "        data=pd.read_sql(\"SELECT perp_sex,age_group, count(age_group) FROM data_a where arrest_boro=='Bronx' GROUP BY perp_sex,age_group\",con=con)\n",
    "    elif change=='Brooklyn':\n",
    "        data=pd.read_sql(\"SELECT perp_sex,age_group, count(age_group) FROM data_a where arrest_boro=='Brooklyn' GROUP BY perp_sex,age_group\",con=con)\n",
    "    elif change=='Manhattan':\n",
    "        data=pd.read_sql(\"SELECT perp_sex,age_group, count(age_group) FROM data_a where arrest_boro=='Manhattan' GROUP BY perp_sex,age_group\",con=con)\n",
    "    elif change=='Queens':\n",
    "        data=pd.read_sql(\"SELECT perp_sex,age_group, count(age_group) FROM data_a where arrest_boro=='Queens' GROUP BY perp_sex,age_group\",con=con)\n",
    "    elif change=='Staten_Island':\n",
    "        data=pd.read_sql(\"SELECT perp_sex,age_group, count(age_group) FROM data_a where arrest_boro=='Staten_Island' GROUP BY perp_sex,age_group\",con=con)\n",
    "    cat_size_order = CategoricalDtype(\n",
    "    ['<18','18-24','25-44','45-64','65+'], \n",
    "    ordered=True\n",
    "    )\n",
    "    data['age_group'] = data['age_group'].astype(cat_size_order)\n",
    "    data.sort_values('age_group')\n",
    "    return data\n",
    "\n",
    "def boro_race(change):\n",
    "    if change==ALL:\n",
    "        data=pd.read_sql(\"SELECT perp_race,age_group, count(age_group) FROM data_a GROUP BY perp_race,age_group\",con=con)\n",
    "    elif change=='Bronx':\n",
    "        data=pd.read_sql(\"SELECT perp_race,age_group, count(age_group) FROM data_a where arrest_boro=='Bronx' GROUP BY perp_race,age_group\",con=con)\n",
    "    elif change=='Brooklyn':\n",
    "        data=pd.read_sql(\"SELECT perp_race,age_group, count(age_group) FROM data_a where arrest_boro=='Brooklyn' GROUP BY perp_race,age_group\",con=con)\n",
    "    elif change=='Manhattan':\n",
    "        data=pd.read_sql(\"SELECT perp_race,age_group, count(age_group) FROM data_a where arrest_boro=='Manhattan' GROUP BY perp_race,age_group\",con=con)\n",
    "    elif change=='Queens':\n",
    "        data=pd.read_sql(\"SELECT perp_race,age_group, count(age_group) FROM data_a where arrest_boro=='Queens' GROUP BY perp_race,age_group\",con=con)\n",
    "    elif change=='Staten_Island':\n",
    "        data=pd.read_sql(\"SELECT perp_race,age_group, count(age_group) FROM data_a where arrest_boro=='Staten_Island' GROUP BY perp_race,age_group\",con=con)\n",
    "    \n",
    "    cat_size_order = CategoricalDtype(\n",
    "    ['<18','18-24','25-44','45-64','65+'], \n",
    "    ordered=True\n",
    "    )\n",
    "    data['age_group'] = data['age_group'].astype(cat_size_order)\n",
    "    data.sort_values('age_group')\n",
    "    return data\n",
    "\n",
    "def boro_race_law(change):\n",
    "    if change==ALL:\n",
    "        data=pd.read_sql(\"SELECT law_cat_cd,perp_race, count(perp_race) FROM data_a GROUP BY law_cat_cd,perp_race\",con=con)\n",
    "    elif change=='Bronx':\n",
    "        data=pd.read_sql(\"SELECT law_cat_cd,perp_race, count(perp_race) FROM data_a where arrest_boro=='Bronx' GROUP BY law_cat_cd,perp_race\",con=con)\n",
    "    elif change=='Brooklyn':\n",
    "        data=pd.read_sql(\"SELECT law_cat_cd,perp_race, count(perp_race) FROM data_a where arrest_boro=='Brooklyn' GROUP BY law_cat_cd,perp_race\",con=con)\n",
    "    elif change=='Manhattan':\n",
    "        data=pd.read_sql(\"SELECT law_cat_cd,perp_race, count(perp_race) FROM data_a where arrest_boro=='Manhattan' GROUP BY law_cat_cd,perp_race\",con=con)\n",
    "    elif change=='Queens':\n",
    "        data=pd.read_sql(\"SELECT law_cat_cd,perp_race, count(perp_race) FROM data_a where arrest_boro=='Queens' GROUP BY law_cat_cd,perp_race\",con=con)\n",
    "    elif change=='Staten_Island':\n",
    "        data=pd.read_sql(\"SELECT law_cat_cd,perp_race, count(perp_race) FROM data_a where arrest_boro=='Staten_Island' GROUP BY law_cat_cd,perp_race\",con=con)\n",
    "    \n",
    "    return data\n",
    "\n",
    "def boro_age_law(change):\n",
    "    if change==ALL:\n",
    "        data=pd.read_sql(\"SELECT law_cat_cd,age_group, count(age_group) FROM data_a GROUP BY law_cat_cd,age_group\",con=con)\n",
    "    elif change=='Bronx':\n",
    "        data=pd.read_sql(\"SELECT law_cat_cd,age_group, count(age_group) FROM data_a where arrest_boro=='Bronx' GROUP BY law_cat_cd,age_group\",con=con)\n",
    "    elif change=='Brooklyn':\n",
    "        data=pd.read_sql(\"SELECT law_cat_cd,age_group, count(age_group) FROM data_a where arrest_boro=='Brooklyn' GROUP BY law_cat_cd,age_group\",con=con)\n",
    "    elif change=='Manhattan':\n",
    "        data=pd.read_sql(\"SELECT law_cat_cd,age_group, count(age_group) FROM data_a where arrest_boro=='Manhattan' GROUP BY law_cat_cd,age_group\",con=con)\n",
    "    elif change=='Queens':\n",
    "        data=pd.read_sql(\"SELECT law_cat_cd,age_group, count(age_group) FROM data_a where arrest_boro=='Queens' GROUP BY law_cat_cd,age_group\",con=con)\n",
    "    elif change=='Staten_Island':\n",
    "        data=pd.read_sql(\"SELECT law_cat_cd,age_group, count(age_group) FROM data_a where arrest_boro=='Staten_Island' GROUP BY law_cat_cd,age_group\",con=con)\n",
    "    \n",
    "    cat_size_order = CategoricalDtype(\n",
    "    ['<18','18-24','25-44','45-64','65+'], \n",
    "    ordered=True\n",
    "    )\n",
    "    data['age_group'] = data['age_group'].astype(cat_size_order)\n",
    "    data.sort_values('age_group')\n",
    "    \n",
    "    return data\n",
    "\n",
    "def boro_map(change,axbig,map):\n",
    "    if change==ALL:\n",
    "        map.plot(\"area\", alpha=0.5, edgecolor='k',legend=False,ax=axbig)\n",
    "        point=geopandas.GeoDataFrame(new_data.arrest_boro,\n",
    "                                    geometry=geopandas.GeoSeries.from_wkt(new_data.geocoded_column))\n",
    "\n",
    "    elif change=='Bronx':\n",
    "        map[map.BoroCode==2].plot(\"area\", alpha=0.5, edgecolor='k',legend=False,ax=axbig)\n",
    "        point=geopandas.GeoDataFrame(new_data.arrest_boro[new_data.arrest_boro=='Bronx'],\n",
    "                                    geometry=geopandas.GeoSeries.from_wkt(new_data.geocoded_column))\n",
    "    elif change=='Brooklyn':\n",
    "        map[map.BoroCode==3].plot(\"area\", alpha=0.5, edgecolor='k',legend=False,ax=axbig)\n",
    "        point=geopandas.GeoDataFrame(new_data.arrest_boro[new_data.arrest_boro=='Brooklyn'],\n",
    "                                    geometry=geopandas.GeoSeries.from_wkt(new_data.geocoded_column))\n",
    "    elif change=='Manhattan':\n",
    "        map[map.BoroCode==1].plot(\"area\", alpha=0.5, edgecolor='k',legend=False,ax=axbig)\n",
    "        point=geopandas.GeoDataFrame(new_data.arrest_boro[new_data.arrest_boro=='Manhattan'],\n",
    "                                    geometry=geopandas.GeoSeries.from_wkt(new_data.geocoded_column))\n",
    "    elif change=='Queens':\n",
    "        map[map.BoroCode==4].plot(\"area\", alpha=0.5, edgecolor='k',legend=False,ax=axbig)\n",
    "        point=geopandas.GeoDataFrame(new_data.arrest_boro[new_data.arrest_boro=='Queens'],\n",
    "                                    geometry=geopandas.GeoSeries.from_wkt(new_data.geocoded_column))\n",
    "    elif change=='Staten Island':\n",
    "        map[map.BoroCode==5].plot(\"area\", alpha=0.5, edgecolor='k',legend=False,ax=axbig)\n",
    "        point=geopandas.GeoDataFrame(new_data.arrest_boro[new_data.arrest_boro=='Staten_Island'],\n",
    "                                    geometry=geopandas.GeoSeries.from_wkt(new_data.geocoded_column))\n",
    "    point.plot(ax=axbig,legend=False,alpha = 0.01)\n",
    "    \n",
    "    \n",
    "\n",
    "def draw_box(change):\n",
    "    fig, axes = plt.subplots(ncols=2, nrows=4,figsize=(16, 15),constrained_layout = True)\n",
    "     \n",
    "\n",
    "    #draw boro arrest time\n",
    "    sns.lineplot(ax=axes[0][0],x='arrest_date',y='count(arrest_date)',data= boro_date(change))\n",
    "    #draw boro ofns category\n",
    "    piechart,texts=axes[0][1].pie(boro_ofns(change)['count(ofns_desc)'])\n",
    "    ratio = 100.*boro_ofns(change)['count(ofns_desc)']/boro_ofns(change)['count(ofns_desc)'].sum()\n",
    "    labels = ['{0} - {1:1.2f} %'.format(i,j) for i,j in zip(boro_ofns(change)['ofns_desc'],ratio)]\n",
    "    sort_legend = True\n",
    "    if sort_legend:\n",
    "        piechart, labels, dummy =  zip(*sorted(zip(piechart, labels,boro_ofns(change)['count(ofns_desc)']),\n",
    "                                          key=lambda x: boro_ofns(change)['ofns_desc'][2],\n",
    "                                          reverse=True))\n",
    "    axes[0][1].legend(piechart, labels, loc='upper left', bbox_to_anchor=(0.95,1.025),fontsize=10)\n",
    "    \n",
    "    #draw sexual age group\n",
    "    sns.barplot(ax=axes[1][0],x='age_group',y=\"count(age_group)\", hue=\"perp_sex\",palette=\"pastel\", data=boro_sex(change))\n",
    "\n",
    "    #draw race age group\n",
    "    sns.barplot(ax=axes[1][1],x='age_group',y=\"count(age_group)\", hue=\"perp_race\",palette=\"pastel\", data=boro_race(change))\n",
    "    axes[1][1].legend(bbox_to_anchor=(1.02, 1), loc='upper left', borderaxespad=0)\n",
    "\n",
    "    #draw law_cat agegroup\n",
    "    sns.barplot(ax=axes[2][0],x=\"count(age_group)\", y=\"age_group\", hue=\"law_cat_cd\",data=boro_age_law(change),palette=\"pastel\")\n",
    "\n",
    "    #draw law_cat race\n",
    "    sns.barplot(ax=axes[3][0],x=\"count(perp_race)\", y=\"law_cat_cd\",hue=\"perp_race\",data=boro_race_law(change),palette=\"pastel\")\n",
    "    axes[2][1].legend(bbox_to_anchor=(1.02, 1), loc='upper left', borderaxespad=0)\n",
    "\n",
    "\n",
    "\n",
    "\n",
    "    \n",
    "    grid_subplot = axes[2,0].get_gridspec()\n",
    "    for ax in axes[-2:, -1]:\n",
    "        ax.remove()\n",
    "    axbig = fig.add_subplot(grid_subplot[-2:, -1])\n",
    "    \n",
    "    #    \n",
    "    path_to_data = geopandas.datasets.get_path(\"nybb\")\n",
    "    nyc_map = geopandas.read_file(path_to_data)\n",
    "    nyc_map=nyc_map.set_index(\"BoroName\")\n",
    "    nyc_map[\"area\"]=nyc_map.area\n",
    "    nyc_map =nyc_map.set_geometry(\"geometry\")\n",
    "    nyc_map_4326 = nyc_map.to_crs(\"EPSG:4326\")\n",
    "    boro_map(change,axbig,nyc_map_4326)\n",
    "    \n",
    "interact(draw_box,change=drop_boro)\n"
   ]
  },
  {
   "cell_type": "markdown",
   "metadata": {},
   "source": [
    "## Arrest Data Map Near Me"
   ]
  },
  {
   "cell_type": "code",
   "execution_count": 80,
   "metadata": {},
   "outputs": [],
   "source": [
    "import ipywidgets as widgets\n",
    "from ipyleaflet import Map,basemaps,Marker\n",
    "from IPython.display import display"
   ]
  },
  {
   "cell_type": "code",
   "execution_count": 81,
   "metadata": {},
   "outputs": [],
   "source": [
    "# get my location\n",
    "import requests\n",
    "import json\n",
    "def display_ip():\n",
    "   ip_request = requests.get('https://get.geojs.io/v1/ip.json')\n",
    "   my_ip = ip_request.json()['ip']\n",
    "   geo_request = requests.get('https://get.geojs.io/v1/ip/geo/' +my_ip + '.json')\n",
    "   geo_data = geo_request.json()\n",
    "   return(geo_data['latitude'],geo_data['longitude'])\n",
    " \n",
    "location = display_ip()\n",
    "my_latitude = float(location[0])\n",
    "my_longitude = float(location[1])"
   ]
  },
  {
   "cell_type": "code",
   "execution_count": 82,
   "metadata": {},
   "outputs": [],
   "source": [
    "# location of NYU Stern Business School\n",
    "# my_latitude = 40.728515\n",
    "# my_longitude = -73.994781"
   ]
  },
  {
   "cell_type": "code",
   "execution_count": 83,
   "metadata": {},
   "outputs": [],
   "source": [
    "#Initialize a Map\n",
    "center = [my_latitude, my_longitude]\n",
    "zoom = 16.1\n",
    "m = Map(basemap=basemaps.OpenStreetMap.Mapnik,center=center, zoom=zoom)"
   ]
  },
  {
   "cell_type": "code",
   "execution_count": 84,
   "metadata": {},
   "outputs": [],
   "source": [
    "#Define the filtering function (from Karim's algorithm) \n",
    "def common_filtering(m):\n",
    "    \n",
    "    #clear the previous markers on the map\n",
    "    base_layer = m.layers[0]\n",
    "    m.clear_layers()\n",
    "    m.add_layer(base_layer)\n",
    "\n",
    "    results_df = new_data\n",
    "\n",
    "    # convert to miles where 1 degree = 68.703 miles\n",
    "    results_df[\"distance\"] = (abs(results_df['latitude'] - my_latitude) + abs(results_df['longitude'] - my_longitude)) * 68.703\n",
    "\n",
    "    # sort by distance\n",
    "    results_df = results_df.sort_values([\"distance\"],ascending=[True])\n",
    "\n",
    "    #get the nearest 50 results to display\n",
    "    results_df = results_df.head(50)\n",
    "\n",
    "    for index, row in results_df.iterrows():        \n",
    "        center = (row['latitude'],row['longitude'])\n",
    "        marker = Marker(location = center, draggable = False, title = str(row['arrest_key']))\n",
    "        m.add_layer(marker)\n",
    "        \n",
    "    return(results_df)"
   ]
  },
  {
   "cell_type": "code",
   "execution_count": 85,
   "metadata": {},
   "outputs": [
    {
     "data": {
      "application/vnd.jupyter.widget-view+json": {
       "model_id": "e4ed5b63260a4ed497708e07961281de",
       "version_major": 2,
       "version_minor": 0
      },
      "text/plain": [
       "Map(center=[40.7359, -73.9904], controls=(ZoomControl(options=['position', 'zoom_in_text', 'zoom_in_title', 'z…"
      ]
     },
     "metadata": {},
     "output_type": "display_data"
    }
   ],
   "source": [
    "# filter the nearest points on map\n",
    "result = common_filtering(m)\n",
    "m"
   ]
  },
  {
   "cell_type": "code",
   "execution_count": 86,
   "metadata": {},
   "outputs": [
    {
     "data": {
      "text/plain": [
       "<AxesSubplot:xlabel='age_group', ylabel='counts'>"
      ]
     },
     "execution_count": 86,
     "metadata": {},
     "output_type": "execute_result"
    },
    {
     "data": {
      "image/png": "[encoded data removed]",
      "text/plain": [
       "<Figure size 504x360 with 1 Axes>"
      ]
     },
     "metadata": {},
     "output_type": "display_data"
    }
   ],
   "source": [
    "# statistic of the nearest 50 results\n",
    "sns.set(rc={'figure.figsize':(7,5)})\n",
    "sns.barplot(x='age_group',y=\"counts\", hue=\"perp_sex\",palette=\"pastel\", data=result.groupby(['perp_sex','age_group']).size().reset_index(name='counts'))"
   ]
  },
  {
   "cell_type": "code",
   "execution_count": null,
   "metadata": {},
   "outputs": [],
   "source": []
  }
 ],
 "metadata": {
  "interpreter": {
   "hash": "aee8b7b246df8f9039afb4144a1f6fd8d2ca17a180786b69acc140d282b71a49"
  },
  "kernelspec": {
   "display_name": "Python 3 (ipykernel)",
   "language": "python",
   "name": "python3"
  },
  "language_info": {
   "codemirror_mode": {
    "name": "ipython",
    "version": 3
   },
   "file_extension": ".py",
   "mimetype": "text/x-python",
   "name": "python",
   "nbconvert_exporter": "python",
   "pygments_lexer": "ipython3",
   "version": "3.9.7"
  }
 },
 "nbformat": 4,
 "nbformat_minor": 2
}
