{
 "cells": [
  {
   "cell_type": "markdown",
   "metadata": {},
   "source": [
    "Data cleaning"
   ]
  },
  {
   "cell_type": "code",
   "execution_count": 1,
   "metadata": {},
   "outputs": [],
   "source": [
    "#UDF for get data\n"
   ]
  },
  {
   "cell_type": "code",
   "execution_count": 1,
   "metadata": {},
   "outputs": [
    {
     "name": "stdout",
     "output_type": "stream",
     "text": [
      "<class 'pandas.core.frame.DataFrame'>\n",
      "Int64Index: 154011 entries, 0 to 155506\n",
      "Data columns (total 19 columns):\n",
      " #   Column             Non-Null Count   Dtype  \n",
      "---  ------             --------------   -----  \n",
      " 0   arrest_key         154011 non-null  int64  \n",
      " 1   arrest_date        154011 non-null  object \n",
      " 2   pd_cd              154011 non-null  float64\n",
      " 3   pd_desc            154011 non-null  object \n",
      " 4   ky_cd              154011 non-null  float64\n",
      " 5   ofns_desc          154011 non-null  object \n",
      " 6   law_code           154011 non-null  object \n",
      " 7   law_cat_cd         154011 non-null  object \n",
      " 8   arrest_boro        154011 non-null  object \n",
      " 9   arrest_precinct    154011 non-null  int64  \n",
      " 10  jurisdiction_code  154011 non-null  int64  \n",
      " 11  age_group          154011 non-null  object \n",
      " 12  perp_sex           154011 non-null  object \n",
      " 13  perp_race          154011 non-null  object \n",
      " 14  x_coord_cd         154011 non-null  int64  \n",
      " 15  y_coord_cd         154011 non-null  int64  \n",
      " 16  latitude           154011 non-null  float64\n",
      " 17  longitude          154011 non-null  float64\n",
      " 18  geocoded_column    154011 non-null  object \n",
      "dtypes: float64(4), int64(5), object(10)\n",
      "memory usage: 23.5+ MB\n"
     ]
    }
   ],
   "source": [
    "import pandas as pd\n",
    "\n",
    "raw_data=pd.read_csv('https://data.cityofnewyork.us/resource/uip8-fykc.csv?$limit=200000')\n",
    "new_data=raw_data.dropna(how='any')\n",
    "new_data.info()"
   ]
  },
  {
   "cell_type": "code",
   "execution_count": 3,
   "metadata": {},
   "outputs": [
    {
     "data": {
      "text/html": [
       "<div>\n",
       "<style scoped>\n",
       "    .dataframe tbody tr th:only-of-type {\n",
       "        vertical-align: middle;\n",
       "    }\n",
       "\n",
       "    .dataframe tbody tr th {\n",
       "        vertical-align: top;\n",
       "    }\n",
       "\n",
       "    .dataframe thead th {\n",
       "        text-align: right;\n",
       "    }\n",
       "</style>\n",
       "<table border=\"1\" class=\"dataframe\">\n",
       "  <thead>\n",
       "    <tr style=\"text-align: right;\">\n",
       "      <th></th>\n",
       "      <th>arrest_key</th>\n",
       "      <th>arrest_date</th>\n",
       "      <th>pd_cd</th>\n",
       "      <th>pd_desc</th>\n",
       "      <th>ky_cd</th>\n",
       "      <th>ofns_desc</th>\n",
       "      <th>law_code</th>\n",
       "      <th>law_cat_cd</th>\n",
       "      <th>arrest_boro</th>\n",
       "      <th>arrest_precinct</th>\n",
       "      <th>jurisdiction_code</th>\n",
       "      <th>age_group</th>\n",
       "      <th>perp_sex</th>\n",
       "      <th>perp_race</th>\n",
       "      <th>x_coord_cd</th>\n",
       "      <th>y_coord_cd</th>\n",
       "      <th>latitude</th>\n",
       "      <th>longitude</th>\n",
       "      <th>geocoded_column</th>\n",
       "    </tr>\n",
       "  </thead>\n",
       "  <tbody>\n",
       "    <tr>\n",
       "      <th>0</th>\n",
       "      <td>238013474</td>\n",
       "      <td>2021-12-18T00:00:00.000</td>\n",
       "      <td>157.0</td>\n",
       "      <td>RAPE 1</td>\n",
       "      <td>104.0</td>\n",
       "      <td>RAPE</td>\n",
       "      <td>PL 1303501</td>\n",
       "      <td>F</td>\n",
       "      <td>Q</td>\n",
       "      <td>105</td>\n",
       "      <td>97</td>\n",
       "      <td>18-24</td>\n",
       "      <td>M</td>\n",
       "      <td>BLACK</td>\n",
       "      <td>1057636</td>\n",
       "      <td>203954</td>\n",
       "      <td>40.726187</td>\n",
       "      <td>-73.735234</td>\n",
       "      <td>POINT (-73.73523390399998 40.72618713000002)</td>\n",
       "    </tr>\n",
       "    <tr>\n",
       "      <th>1</th>\n",
       "      <td>236943583</td>\n",
       "      <td>2021-11-25T00:00:00.000</td>\n",
       "      <td>263.0</td>\n",
       "      <td>ARSON 2,3,4</td>\n",
       "      <td>114.0</td>\n",
       "      <td>ARSON</td>\n",
       "      <td>PL 1501500</td>\n",
       "      <td>F</td>\n",
       "      <td>K</td>\n",
       "      <td>69</td>\n",
       "      <td>71</td>\n",
       "      <td>25-44</td>\n",
       "      <td>M</td>\n",
       "      <td>BLACK</td>\n",
       "      <td>1014340</td>\n",
       "      <td>171320</td>\n",
       "      <td>40.636868</td>\n",
       "      <td>-73.891586</td>\n",
       "      <td>POINT (-73.89158591899997 40.63686750900007)</td>\n",
       "    </tr>\n",
       "    <tr>\n",
       "      <th>2</th>\n",
       "      <td>234938876</td>\n",
       "      <td>2021-10-14T00:00:00.000</td>\n",
       "      <td>594.0</td>\n",
       "      <td>OBSCENITY 1</td>\n",
       "      <td>116.0</td>\n",
       "      <td>SEX CRIMES</td>\n",
       "      <td>PL 2631100</td>\n",
       "      <td>F</td>\n",
       "      <td>K</td>\n",
       "      <td>61</td>\n",
       "      <td>0</td>\n",
       "      <td>25-44</td>\n",
       "      <td>M</td>\n",
       "      <td>WHITE</td>\n",
       "      <td>995244</td>\n",
       "      <td>155739</td>\n",
       "      <td>40.594145</td>\n",
       "      <td>-73.960415</td>\n",
       "      <td>POINT (-73.96041495199995 40.59414516900005)</td>\n",
       "    </tr>\n",
       "    <tr>\n",
       "      <th>3</th>\n",
       "      <td>234788259</td>\n",
       "      <td>2021-10-11T00:00:00.000</td>\n",
       "      <td>263.0</td>\n",
       "      <td>ARSON 2,3,4</td>\n",
       "      <td>114.0</td>\n",
       "      <td>ARSON</td>\n",
       "      <td>PL 1501001</td>\n",
       "      <td>F</td>\n",
       "      <td>B</td>\n",
       "      <td>42</td>\n",
       "      <td>71</td>\n",
       "      <td>18-24</td>\n",
       "      <td>M</td>\n",
       "      <td>BLACK</td>\n",
       "      <td>1009058</td>\n",
       "      <td>239616</td>\n",
       "      <td>40.824340</td>\n",
       "      <td>-73.910365</td>\n",
       "      <td>POINT (-73.91036538099996 40.82433953100008)</td>\n",
       "    </tr>\n",
       "    <tr>\n",
       "      <th>5</th>\n",
       "      <td>234117071</td>\n",
       "      <td>2021-09-27T00:00:00.000</td>\n",
       "      <td>157.0</td>\n",
       "      <td>RAPE 1</td>\n",
       "      <td>104.0</td>\n",
       "      <td>RAPE</td>\n",
       "      <td>PL 1303501</td>\n",
       "      <td>F</td>\n",
       "      <td>K</td>\n",
       "      <td>84</td>\n",
       "      <td>0</td>\n",
       "      <td>25-44</td>\n",
       "      <td>M</td>\n",
       "      <td>BLACK</td>\n",
       "      <td>989013</td>\n",
       "      <td>192652</td>\n",
       "      <td>40.695469</td>\n",
       "      <td>-73.982825</td>\n",
       "      <td>POINT (-73.98282507899995 40.69546894100006)</td>\n",
       "    </tr>\n",
       "  </tbody>\n",
       "</table>\n",
       "</div>"
      ],
      "text/plain": [
       "   arrest_key              arrest_date  pd_cd      pd_desc  ky_cd   ofns_desc  \\\n",
       "0   238013474  2021-12-18T00:00:00.000  157.0       RAPE 1  104.0        RAPE   \n",
       "1   236943583  2021-11-25T00:00:00.000  263.0  ARSON 2,3,4  114.0       ARSON   \n",
       "2   234938876  2021-10-14T00:00:00.000  594.0  OBSCENITY 1  116.0  SEX CRIMES   \n",
       "3   234788259  2021-10-11T00:00:00.000  263.0  ARSON 2,3,4  114.0       ARSON   \n",
       "5   234117071  2021-09-27T00:00:00.000  157.0       RAPE 1  104.0        RAPE   \n",
       "\n",
       "     law_code law_cat_cd arrest_boro  arrest_precinct  jurisdiction_code  \\\n",
       "0  PL 1303501          F           Q              105                 97   \n",
       "1  PL 1501500          F           K               69                 71   \n",
       "2  PL 2631100          F           K               61                  0   \n",
       "3  PL 1501001          F           B               42                 71   \n",
       "5  PL 1303501          F           K               84                  0   \n",
       "\n",
       "  age_group perp_sex perp_race  x_coord_cd  y_coord_cd   latitude  longitude  \\\n",
       "0     18-24        M     BLACK     1057636      203954  40.726187 -73.735234   \n",
       "1     25-44        M     BLACK     1014340      171320  40.636868 -73.891586   \n",
       "2     25-44        M     WHITE      995244      155739  40.594145 -73.960415   \n",
       "3     18-24        M     BLACK     1009058      239616  40.824340 -73.910365   \n",
       "5     25-44        M     BLACK      989013      192652  40.695469 -73.982825   \n",
       "\n",
       "                                geocoded_column  \n",
       "0  POINT (-73.73523390399998 40.72618713000002)  \n",
       "1  POINT (-73.89158591899997 40.63686750900007)  \n",
       "2  POINT (-73.96041495199995 40.59414516900005)  \n",
       "3  POINT (-73.91036538099996 40.82433953100008)  \n",
       "5  POINT (-73.98282507899995 40.69546894100006)  "
      ]
     },
     "execution_count": 3,
     "metadata": {},
     "output_type": "execute_result"
    }
   ],
   "source": [
    "new_data.head(5)"
   ]
  },
  {
   "cell_type": "code",
   "execution_count": 5,
   "metadata": {},
   "outputs": [
    {
     "data": {
      "text/plain": [
       "0         2021-12-18T00:00:00.000\n",
       "1         2021-11-25T00:00:00.000\n",
       "2         2021-10-14T00:00:00.000\n",
       "3         2021-10-11T00:00:00.000\n",
       "5         2021-09-27T00:00:00.000\n",
       "                   ...           \n",
       "155502    2021-01-10T00:00:00.000\n",
       "155503    2021-02-03T00:00:00.000\n",
       "155504    2021-02-13T00:00:00.000\n",
       "155505    2021-01-04T00:00:00.000\n",
       "155506    2021-02-06T00:00:00.000\n",
       "Name: arrest_date, Length: 154011, dtype: object"
      ]
     },
     "execution_count": 5,
     "metadata": {},
     "output_type": "execute_result"
    }
   ],
   "source": [
    "new_data['arrest_date'].head(5)\n",
    "#dates = pd.to_datetime(new_data['arrest_date'])\n",
    "#new_data.replace('arrest_date',dates.dt.strftime('%Y-%m-%d').astype(str))"
   ]
  },
  {
   "cell_type": "markdown",
   "metadata": {},
   "source": [
    "Data exploratory analysis"
   ]
  },
  {
   "cell_type": "code",
   "execution_count": 65,
   "metadata": {},
   "outputs": [],
   "source": [
    "import matplotlib.pyplot as plt\n",
    "import seaborn as sns"
   ]
  },
  {
   "cell_type": "markdown",
   "metadata": {},
   "source": [
    "Database"
   ]
  },
  {
   "cell_type": "code",
   "execution_count": 19,
   "metadata": {},
   "outputs": [],
   "source": [
    "import sqlite3"
   ]
  },
  {
   "cell_type": "code",
   "execution_count": 6,
   "metadata": {},
   "outputs": [],
   "source": [
    "con = sqlite3.connect('nypd_data.db')"
   ]
  },
  {
   "cell_type": "code",
   "execution_count": 52,
   "metadata": {},
   "outputs": [],
   "source": [
    "new_data.to_sql(name='data_a',con=con)"
   ]
  },
  {
   "cell_type": "code",
   "execution_count": null,
   "metadata": {},
   "outputs": [],
   "source": []
  },
  {
   "cell_type": "markdown",
   "metadata": {},
   "source": [
    "Search engine=>dashboard"
   ]
  },
  {
   "cell_type": "code",
   "execution_count": 5,
   "metadata": {},
   "outputs": [],
   "source": [
    "import geopandas as gpd\n",
    "from keplergl import KeplerGl\n",
    "import ipywidgets as widgets\n",
    "from IPython.display import display\n",
    "import requests\n",
    "import json"
   ]
  },
  {
   "cell_type": "code",
   "execution_count": null,
   "metadata": {},
   "outputs": [],
   "source": []
  },
  {
   "cell_type": "code",
   "execution_count": 6,
   "metadata": {},
   "outputs": [
    {
     "name": "stdout",
     "output_type": "stream",
     "text": [
      "User Guide: https://docs.kepler.gl/docs/keplergl-jupyter\n"
     ]
    }
   ],
   "source": [
    "def get_loc():\n",
    "    ip_request = requests.get('https://get.geojs.io/v1/ip.json')\n",
    "    my_ip = ip_request.json()['ip']\n",
    "    geo_request = requests.get('https://get.geojs.io/v1/ip/geo/' +my_ip + '.json')\n",
    "    geo_data = geo_request.json()\n",
    "    my_la= float(geo_data['latitude'])\n",
    "    my_lo = float(geo_data['longitude'])\n",
    "    loc={'latitude':my_la,\n",
    "         'longitude':my_lo\n",
    "    }\n",
    "    my_loc=pd.DataFrame(loc,index=[0])\n",
    "    return(my_loc)\n",
    "\n",
    "my_loc=get_loc()\n",
    "map_1 = KeplerGl(height=400)\n",
    "map_1.add_data(data=my_loc)"
   ]
  },
  {
   "cell_type": "code",
   "execution_count": 60,
   "metadata": {},
   "outputs": [
    {
     "data": {
      "image/png": "[encoded data removed]",
      "text/plain": [
       "<Figure size 432x288 with 1 Axes>"
      ]
     },
     "metadata": {},
     "output_type": "display_data"
    }
   ],
   "source": [
    "#Initialize a grid layout\n",
    "grid = widgets.GridspecLayout(3, 3, height='900px')\n",
    "sns.set(style=\"darkgrid\")\n",
    "arrest_date=pd.read_sql('SELECT arrest_date, count(arrest_date) FROM data_a GROUP BY arrest_date LIMIT 5',con=con)\n",
    "g=sns.lineplot(x='arrest_date',y='count(arrest_date)',data=arrest_date)\n"
   ]
  },
  {
   "cell_type": "code",
   "execution_count": null,
   "metadata": {},
   "outputs": [],
   "source": []
  },
  {
   "cell_type": "markdown",
   "metadata": {},
   "source": [
    "Map"
   ]
  },
  {
   "cell_type": "code",
   "execution_count": 7,
   "metadata": {},
   "outputs": [
    {
     "name": "stdout",
     "output_type": "stream",
     "text": [
      "         latitude  longitude\n",
      "0       40.726187 -73.735234\n",
      "1       40.636868 -73.891586\n",
      "2       40.594145 -73.960415\n",
      "3       40.824340 -73.910365\n",
      "5       40.695469 -73.982825\n",
      "...           ...        ...\n",
      "155502  40.846260 -73.901755\n",
      "155503  40.663302 -73.925425\n",
      "155504  40.623227 -74.149227\n",
      "155505  40.684194 -73.916085\n",
      "155506  40.690226 -73.829932\n",
      "\n",
      "[154011 rows x 2 columns]\n",
      "User Guide: https://docs.kepler.gl/docs/keplergl-jupyter\n"
     ]
    }
   ],
   "source": [
    "map_data=new_data[['latitude','longitude']]\n",
    "print(map_data)\n",
    "map_2 = KeplerGl(height=600)  \n",
    "map_2.add_data(data=map_data.head(100))  "
   ]
  },
  {
   "cell_type": "code",
   "execution_count": null,
   "metadata": {},
   "outputs": [],
   "source": []
  }
 ],
 "metadata": {
  "interpreter": {
   "hash": "aee8b7b246df8f9039afb4144a1f6fd8d2ca17a180786b69acc140d282b71a49"
  },
  "kernelspec": {
   "display_name": "Python 3 (ipykernel)",
   "language": "python",
   "name": "python3"
  },
  "language_info": {
   "codemirror_mode": {
    "name": "ipython",
    "version": 3
   },
   "file_extension": ".py",
   "mimetype": "text/x-python",
   "name": "python",
   "nbconvert_exporter": "python",
   "pygments_lexer": "ipython3",
   "version": "3.9.7"
  }
 },
 "nbformat": 4,
 "nbformat_minor": 2
}
