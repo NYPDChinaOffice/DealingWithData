{
 "cells": [
  {
   "cell_type": "markdown",
   "metadata": {},
   "source": [
    "## Data cleaning"
   ]
  },
  {
   "cell_type": "code",
   "execution_count": 1,
   "metadata": {},
   "outputs": [
    {
     "name": "stdout",
     "output_type": "stream",
     "text": [
      "<class 'pandas.core.frame.DataFrame'>\n",
      "Int64Index: 154011 entries, 0 to 155506\n",
      "Data columns (total 19 columns):\n",
      " #   Column             Non-Null Count   Dtype  \n",
      "---  ------             --------------   -----  \n",
      " 0   arrest_key         154011 non-null  int64  \n",
      " 1   arrest_date        154011 non-null  object \n",
      " 2   pd_cd              154011 non-null  float64\n",
      " 3   pd_desc            154011 non-null  object \n",
      " 4   ky_cd              154011 non-null  float64\n",
      " 5   ofns_desc          154011 non-null  object \n",
      " 6   law_code           154011 non-null  object \n",
      " 7   law_cat_cd         154011 non-null  object \n",
      " 8   arrest_boro        154011 non-null  object \n",
      " 9   arrest_precinct    154011 non-null  int64  \n",
      " 10  jurisdiction_code  154011 non-null  int64  \n",
      " 11  age_group          154011 non-null  object \n",
      " 12  perp_sex           154011 non-null  object \n",
      " 13  perp_race          154011 non-null  object \n",
      " 14  x_coord_cd         154011 non-null  int64  \n",
      " 15  y_coord_cd         154011 non-null  int64  \n",
      " 16  latitude           154011 non-null  float64\n",
      " 17  longitude          154011 non-null  float64\n",
      " 18  geocoded_column    154011 non-null  object \n",
      "dtypes: float64(4), int64(5), object(10)\n",
      "memory usage: 23.5+ MB\n"
     ]
    }
   ],
   "source": [
    "import pandas as pd\n",
    "pd.options.mode.chained_assignment = None \n",
    "\n",
    "raw_data=pd.read_csv('https://data.cityofnewyork.us/resource/uip8-fykc.csv?$limit=200000')\n",
    "new_data=raw_data.dropna(how='any')\n",
    "new_data.info()"
   ]
  },
  {
   "cell_type": "code",
   "execution_count": 2,
   "metadata": {},
   "outputs": [
    {
     "data": {
      "text/html": [
       "<div>\n",
       "<style scoped>\n",
       "    .dataframe tbody tr th:only-of-type {\n",
       "        vertical-align: middle;\n",
       "    }\n",
       "\n",
       "    .dataframe tbody tr th {\n",
       "        vertical-align: top;\n",
       "    }\n",
       "\n",
       "    .dataframe thead th {\n",
       "        text-align: right;\n",
       "    }\n",
       "</style>\n",
       "<table border=\"1\" class=\"dataframe\">\n",
       "  <thead>\n",
       "    <tr style=\"text-align: right;\">\n",
       "      <th></th>\n",
       "      <th>arrest_key</th>\n",
       "      <th>arrest_date</th>\n",
       "      <th>pd_cd</th>\n",
       "      <th>pd_desc</th>\n",
       "      <th>ky_cd</th>\n",
       "      <th>ofns_desc</th>\n",
       "      <th>law_code</th>\n",
       "      <th>law_cat_cd</th>\n",
       "      <th>arrest_boro</th>\n",
       "      <th>arrest_precinct</th>\n",
       "      <th>jurisdiction_code</th>\n",
       "      <th>age_group</th>\n",
       "      <th>perp_sex</th>\n",
       "      <th>perp_race</th>\n",
       "      <th>x_coord_cd</th>\n",
       "      <th>y_coord_cd</th>\n",
       "      <th>latitude</th>\n",
       "      <th>longitude</th>\n",
       "      <th>geocoded_column</th>\n",
       "    </tr>\n",
       "  </thead>\n",
       "  <tbody>\n",
       "    <tr>\n",
       "      <th>0</th>\n",
       "      <td>238013474</td>\n",
       "      <td>2021-12-18T00:00:00.000</td>\n",
       "      <td>157.0</td>\n",
       "      <td>RAPE_1</td>\n",
       "      <td>104.0</td>\n",
       "      <td>RAPE</td>\n",
       "      <td>PL 1303501</td>\n",
       "      <td>F</td>\n",
       "      <td>Queens</td>\n",
       "      <td>105</td>\n",
       "      <td>97</td>\n",
       "      <td>18-24</td>\n",
       "      <td>M</td>\n",
       "      <td>BLACK</td>\n",
       "      <td>1057636</td>\n",
       "      <td>203954</td>\n",
       "      <td>40.726187</td>\n",
       "      <td>-73.735234</td>\n",
       "      <td>POINT (-73.73523390399998 40.72618713000002)</td>\n",
       "    </tr>\n",
       "    <tr>\n",
       "      <th>1</th>\n",
       "      <td>236943583</td>\n",
       "      <td>2021-11-25T00:00:00.000</td>\n",
       "      <td>263.0</td>\n",
       "      <td>ARSON_2,3,4</td>\n",
       "      <td>114.0</td>\n",
       "      <td>ARSON</td>\n",
       "      <td>PL 1501500</td>\n",
       "      <td>F</td>\n",
       "      <td>Brooklyn</td>\n",
       "      <td>69</td>\n",
       "      <td>71</td>\n",
       "      <td>25-44</td>\n",
       "      <td>M</td>\n",
       "      <td>BLACK</td>\n",
       "      <td>1014340</td>\n",
       "      <td>171320</td>\n",
       "      <td>40.636868</td>\n",
       "      <td>-73.891586</td>\n",
       "      <td>POINT (-73.89158591899997 40.63686750900007)</td>\n",
       "    </tr>\n",
       "    <tr>\n",
       "      <th>2</th>\n",
       "      <td>234938876</td>\n",
       "      <td>2021-10-14T00:00:00.000</td>\n",
       "      <td>594.0</td>\n",
       "      <td>OBSCENITY_1</td>\n",
       "      <td>116.0</td>\n",
       "      <td>SEX CRIMES</td>\n",
       "      <td>PL 2631100</td>\n",
       "      <td>F</td>\n",
       "      <td>Brooklyn</td>\n",
       "      <td>61</td>\n",
       "      <td>0</td>\n",
       "      <td>25-44</td>\n",
       "      <td>M</td>\n",
       "      <td>WHITE</td>\n",
       "      <td>995244</td>\n",
       "      <td>155739</td>\n",
       "      <td>40.594145</td>\n",
       "      <td>-73.960415</td>\n",
       "      <td>POINT (-73.96041495199995 40.59414516900005)</td>\n",
       "    </tr>\n",
       "    <tr>\n",
       "      <th>3</th>\n",
       "      <td>234788259</td>\n",
       "      <td>2021-10-11T00:00:00.000</td>\n",
       "      <td>263.0</td>\n",
       "      <td>ARSON_2,3,4</td>\n",
       "      <td>114.0</td>\n",
       "      <td>ARSON</td>\n",
       "      <td>PL 1501001</td>\n",
       "      <td>F</td>\n",
       "      <td>Bronx</td>\n",
       "      <td>42</td>\n",
       "      <td>71</td>\n",
       "      <td>18-24</td>\n",
       "      <td>M</td>\n",
       "      <td>BLACK</td>\n",
       "      <td>1009058</td>\n",
       "      <td>239616</td>\n",
       "      <td>40.824340</td>\n",
       "      <td>-73.910365</td>\n",
       "      <td>POINT (-73.91036538099996 40.82433953100008)</td>\n",
       "    </tr>\n",
       "    <tr>\n",
       "      <th>5</th>\n",
       "      <td>234117071</td>\n",
       "      <td>2021-09-27T00:00:00.000</td>\n",
       "      <td>157.0</td>\n",
       "      <td>RAPE_1</td>\n",
       "      <td>104.0</td>\n",
       "      <td>RAPE</td>\n",
       "      <td>PL 1303501</td>\n",
       "      <td>F</td>\n",
       "      <td>Brooklyn</td>\n",
       "      <td>84</td>\n",
       "      <td>0</td>\n",
       "      <td>25-44</td>\n",
       "      <td>M</td>\n",
       "      <td>BLACK</td>\n",
       "      <td>989013</td>\n",
       "      <td>192652</td>\n",
       "      <td>40.695469</td>\n",
       "      <td>-73.982825</td>\n",
       "      <td>POINT (-73.98282507899995 40.69546894100006)</td>\n",
       "    </tr>\n",
       "  </tbody>\n",
       "</table>\n",
       "</div>"
      ],
      "text/plain": [
       "   arrest_key              arrest_date  pd_cd      pd_desc  ky_cd   ofns_desc  \\\n",
       "0   238013474  2021-12-18T00:00:00.000  157.0       RAPE_1  104.0        RAPE   \n",
       "1   236943583  2021-11-25T00:00:00.000  263.0  ARSON_2,3,4  114.0       ARSON   \n",
       "2   234938876  2021-10-14T00:00:00.000  594.0  OBSCENITY_1  116.0  SEX CRIMES   \n",
       "3   234788259  2021-10-11T00:00:00.000  263.0  ARSON_2,3,4  114.0       ARSON   \n",
       "5   234117071  2021-09-27T00:00:00.000  157.0       RAPE_1  104.0        RAPE   \n",
       "\n",
       "     law_code law_cat_cd arrest_boro  arrest_precinct  jurisdiction_code  \\\n",
       "0  PL 1303501          F      Queens              105                 97   \n",
       "1  PL 1501500          F    Brooklyn               69                 71   \n",
       "2  PL 2631100          F    Brooklyn               61                  0   \n",
       "3  PL 1501001          F       Bronx               42                 71   \n",
       "5  PL 1303501          F    Brooklyn               84                  0   \n",
       "\n",
       "  age_group perp_sex perp_race  x_coord_cd  y_coord_cd   latitude  longitude  \\\n",
       "0     18-24        M     BLACK     1057636      203954  40.726187 -73.735234   \n",
       "1     25-44        M     BLACK     1014340      171320  40.636868 -73.891586   \n",
       "2     25-44        M     WHITE      995244      155739  40.594145 -73.960415   \n",
       "3     18-24        M     BLACK     1009058      239616  40.824340 -73.910365   \n",
       "5     25-44        M     BLACK      989013      192652  40.695469 -73.982825   \n",
       "\n",
       "                                geocoded_column  \n",
       "0  POINT (-73.73523390399998 40.72618713000002)  \n",
       "1  POINT (-73.89158591899997 40.63686750900007)  \n",
       "2  POINT (-73.96041495199995 40.59414516900005)  \n",
       "3  POINT (-73.91036538099996 40.82433953100008)  \n",
       "5  POINT (-73.98282507899995 40.69546894100006)  "
      ]
     },
     "execution_count": 2,
     "metadata": {},
     "output_type": "execute_result"
    }
   ],
   "source": [
    "# convert arrest_boro to 'Bronx','Staten Island','Brooklyn','Manhattan','Queens'\n",
    "new_data['arrest_boro'] = new_data['arrest_boro'].replace(['B','S','K','M','Q'],['Bronx','Staten_Island','Brooklyn','Manhattan','Queens'])\n",
    "# replace space in new_data['pd_desc'] to \"_\"\n",
    "new_data['pd_desc'] = new_data['pd_desc'].str.replace(\" \",\"_\")\n",
    "new_data.head()"
   ]
  },
  {
   "cell_type": "code",
   "execution_count": 3,
   "metadata": {},
   "outputs": [
    {
     "name": "stdout",
     "output_type": "stream",
     "text": [
      "arrest_date\n",
      "pd_desc\n",
      "ofns_desc\n",
      "law_code\n",
      "law_cat_cd\n",
      "arrest_boro\n",
      "age_group\n",
      "perp_sex\n",
      "perp_race\n"
     ]
    }
   ],
   "source": [
    "for feat in new_data.columns[:-1]:\n",
    "    if new_data[feat].dtype == object:\n",
    "        print(feat)"
   ]
  },
  {
   "cell_type": "code",
   "execution_count": 4,
   "metadata": {},
   "outputs": [
    {
     "data": {
      "text/plain": [
       "62"
      ]
     },
     "execution_count": 4,
     "metadata": {},
     "output_type": "execute_result"
    }
   ],
   "source": [
    "len(new_data.ofns_desc.unique().tolist())"
   ]
  },
  {
   "cell_type": "markdown",
   "metadata": {},
   "source": [
    "## Data exploratory analysis(maybe not)"
   ]
  },
  {
   "cell_type": "code",
   "execution_count": 5,
   "metadata": {},
   "outputs": [],
   "source": [
    "import matplotlib.pyplot as plt\n",
    "import seaborn as sns"
   ]
  },
  {
   "cell_type": "markdown",
   "metadata": {},
   "source": [
    "## Database"
   ]
  },
  {
   "cell_type": "code",
   "execution_count": 6,
   "metadata": {},
   "outputs": [],
   "source": [
    "import sqlite3\n",
    "con = sqlite3.connect('nypd_data.db')\n",
    "#new_data.to_sql(name='data_a',con=con)"
   ]
  },
  {
   "cell_type": "markdown",
   "metadata": {},
   "source": [
    "## Dashboard"
   ]
  },
  {
   "cell_type": "code",
   "execution_count": 7,
   "metadata": {},
   "outputs": [],
   "source": [
    "import ipywidgets as widgets\n",
    "from ipywidgets import interact\n",
    "from IPython.display import display\n",
    "from keplergl import KeplerGl\n",
    "import requests\n",
    "import numpy as np\n",
    "from pandas.api.types import CategoricalDtype\n",
    "import geopandas"
   ]
  },
  {
   "cell_type": "code",
   "execution_count": 16,
   "metadata": {
    "scrolled": true
   },
   "outputs": [
    {
     "data": {
      "application/vnd.jupyter.widget-view+json": {
       "model_id": "f889973be72f4f5292d68b99843e6acb",
       "version_major": 2,
       "version_minor": 0
      },
      "text/plain": [
       "interactive(children=(Dropdown(description='select boro', options=('ALL', 'Bronx', 'Brooklyn', 'Manhattan', 'Q…"
      ]
     },
     "metadata": {},
     "output_type": "display_data"
    },
    {
     "data": {
      "text/plain": [
       "<function __main__.draw_box(change)>"
      ]
     },
     "execution_count": 16,
     "metadata": {},
     "output_type": "execute_result"
    }
   ],
   "source": [
    "ALL='ALL'\n",
    "def unique_val(arr):\n",
    "    unique=arr.unique().tolist()\n",
    "    unique.sort()\n",
    "    unique.insert(0,ALL)\n",
    "    return unique\n",
    "\n",
    "drop_boro=widgets.Dropdown(\n",
    "    options= unique_val(new_data.arrest_boro),\n",
    "    value=ALL,\n",
    "    description='select boro'\n",
    ")\n",
    "\n",
    "def boro_date(change):\n",
    "    #'Bronx','Staten Island','Brooklyn','Manhattan','Queens'\n",
    "    if change==ALL:\n",
    "        data=pd.read_sql(\"SELECT arrest_date, count(arrest_date) FROM data_a GROUP BY arrest_date\",con=con)\n",
    "    elif change=='Bronx':\n",
    "        data=pd.read_sql(\"SELECT arrest_date, count(arrest_date) FROM data_a where arrest_boro=='Bronx' GROUP BY arrest_date\",con=con)\n",
    "    elif change=='Brooklyn':\n",
    "        data=pd.read_sql(\"SELECT arrest_date, count(arrest_date) FROM data_a where arrest_boro=='Brooklyn' GROUP BY arrest_date\",con=con)\n",
    "    elif change=='Manhattan':\n",
    "        data=pd.read_sql(\"SELECT arrest_date, count(arrest_date) FROM data_a where arrest_boro=='Manhattan' GROUP BY arrest_date\",con=con)\n",
    "    elif change=='Queens':\n",
    "        data=pd.read_sql(\"SELECT arrest_date, count(arrest_date) FROM data_a where arrest_boro=='Queens' GROUP BY arrest_date\",con=con)\n",
    "    elif change=='Staten_Island':\n",
    "        data=pd.read_sql(\"SELECT arrest_date, count(arrest_date) FROM data_a where arrest_boro=='Staten_Island' GROUP BY arrest_date\",con=con)\n",
    "    data['arrest_date'] = pd.to_datetime(data['arrest_date'],format='%Y/%m/%d')\n",
    "    return data\n",
    "\n",
    "def boro_ofns(change):\n",
    "    if change==ALL:\n",
    "        data=pd.read_sql(\"SELECT ofns_desc, count(ofns_desc) FROM data_a GROUP BY ofns_desc LIMIT 5\",con=con)\n",
    "    elif change=='Bronx':\n",
    "        data=pd.read_sql(\"SELECT ofns_desc, count(ofns_desc) FROM data_a where arrest_boro=='Bronx' GROUP BY ofns_desc LIMIT 5\",con=con)\n",
    "    elif change=='Brooklyn':\n",
    "        data=pd.read_sql(\"SELECT ofns_desc, count(ofns_desc) FROM data_a where arrest_boro=='Brooklyn' GROUP BY ofns_desc LIMIT 5\",con=con)\n",
    "    elif change=='Manhattan':\n",
    "        data=pd.read_sql(\"SELECT ofns_desc, count(ofns_desc) FROM data_a where arrest_boro=='Manhattan' GROUP BY ofns_desc LIMIT 5\",con=con)\n",
    "    elif change=='Queens':\n",
    "        data=pd.read_sql(\"SELECT ofns_desc, count(ofns_desc) FROM data_a where arrest_boro=='Queens' GROUP BY ofns_desc LIMIT 5\",con=con)\n",
    "    elif change=='Staten_Island':\n",
    "        data=pd.read_sql(\"SELECT ofns_desc, count(ofns_desc) FROM data_a where arrest_boro=='Staten_Island' GROUP BY ofns_desc LIMIT 5\",con=con)\n",
    "    return data\n",
    "    \n",
    "\n",
    "def boro_sex(change):\n",
    "    if change==ALL:\n",
    "        data=pd.read_sql(\"SELECT perp_sex,age_group, count(age_group) FROM data_a GROUP BY perp_sex,age_group\",con=con)\n",
    "    elif change=='Bronx':\n",
    "        data=pd.read_sql(\"SELECT perp_sex,age_group, count(age_group) FROM data_a where arrest_boro=='Bronx' GROUP BY perp_sex,age_group\",con=con)\n",
    "    elif change=='Brooklyn':\n",
    "        data=pd.read_sql(\"SELECT perp_sex,age_group, count(age_group) FROM data_a where arrest_boro=='Brooklyn' GROUP BY perp_sex,age_group\",con=con)\n",
    "    elif change=='Manhattan':\n",
    "        data=pd.read_sql(\"SELECT perp_sex,age_group, count(age_group) FROM data_a where arrest_boro=='Manhattan' GROUP BY perp_sex,age_group\",con=con)\n",
    "    elif change=='Queens':\n",
    "        data=pd.read_sql(\"SELECT perp_sex,age_group, count(age_group) FROM data_a where arrest_boro=='Queens' GROUP BY perp_sex,age_group\",con=con)\n",
    "    elif change=='Staten_Island':\n",
    "        data=pd.read_sql(\"SELECT perp_sex,age_group, count(age_group) FROM data_a where arrest_boro=='Staten_Island' GROUP BY perp_sex,age_group\",con=con)\n",
    "    cat_size_order = CategoricalDtype(\n",
    "    ['<18','18-24','25-44','45-64','65+'], \n",
    "    ordered=True\n",
    "    )\n",
    "    data['age_group'] = data['age_group'].astype(cat_size_order)\n",
    "    data.sort_values('age_group')\n",
    "    return data\n",
    "\n",
    "def boro_race(change):\n",
    "    if change==ALL:\n",
    "        data=pd.read_sql(\"SELECT perp_race,age_group, count(age_group) FROM data_a GROUP BY perp_race,age_group\",con=con)\n",
    "    elif change=='Bronx':\n",
    "        data=pd.read_sql(\"SELECT perp_race,age_group, count(age_group) FROM data_a where arrest_boro=='Bronx' GROUP BY perp_race,age_group\",con=con)\n",
    "    elif change=='Brooklyn':\n",
    "        data=pd.read_sql(\"SELECT perp_race,age_group, count(age_group) FROM data_a where arrest_boro=='Brooklyn' GROUP BY perp_race,age_group\",con=con)\n",
    "    elif change=='Manhattan':\n",
    "        data=pd.read_sql(\"SELECT perp_race,age_group, count(age_group) FROM data_a where arrest_boro=='Manhattan' GROUP BY perp_race,age_group\",con=con)\n",
    "    elif change=='Queens':\n",
    "        data=pd.read_sql(\"SELECT perp_race,age_group, count(age_group) FROM data_a where arrest_boro=='Queens' GROUP BY perp_race,age_group\",con=con)\n",
    "    elif change=='Staten_Island':\n",
    "        data=pd.read_sql(\"SELECT perp_race,age_group, count(age_group) FROM data_a where arrest_boro=='Staten_Island' GROUP BY perp_race,age_group\",con=con)\n",
    "    \n",
    "    cat_size_order = CategoricalDtype(\n",
    "    ['<18','18-24','25-44','45-64','65+'], \n",
    "    ordered=True\n",
    "    )\n",
    "    data['age_group'] = data['age_group'].astype(cat_size_order)\n",
    "    data.sort_values('age_group')\n",
    "    return data\n",
    "\n",
    "def boro_race_law(change):\n",
    "    if change==ALL:\n",
    "        data=pd.read_sql(\"SELECT law_cat_cd,perp_race, count(perp_race) FROM data_a GROUP BY law_cat_cd,perp_race\",con=con)\n",
    "    elif change=='Bronx':\n",
    "        data=pd.read_sql(\"SELECT law_cat_cd,perp_race, count(perp_race) FROM data_a where arrest_boro=='Bronx' GROUP BY law_cat_cd,perp_race\",con=con)\n",
    "    elif change=='Brooklyn':\n",
    "        data=pd.read_sql(\"SELECT law_cat_cd,perp_race, count(perp_race) FROM data_a where arrest_boro=='Brooklyn' GROUP BY law_cat_cd,perp_race\",con=con)\n",
    "    elif change=='Manhattan':\n",
    "        data=pd.read_sql(\"SELECT law_cat_cd,perp_race, count(perp_race) FROM data_a where arrest_boro=='Manhattan' GROUP BY law_cat_cd,perp_race\",con=con)\n",
    "    elif change=='Queens':\n",
    "        data=pd.read_sql(\"SELECT law_cat_cd,perp_race, count(perp_race) FROM data_a where arrest_boro=='Queens' GROUP BY law_cat_cd,perp_race\",con=con)\n",
    "    elif change=='Staten_Island':\n",
    "        data=pd.read_sql(\"SELECT law_cat_cd,perp_race, count(perp_race) FROM data_a where arrest_boro=='Staten_Island' GROUP BY law_cat_cd,perp_race\",con=con)\n",
    "    \n",
    "    return data\n",
    "\n",
    "def boro_age_law(change):\n",
    "    if change==ALL:\n",
    "        data=pd.read_sql(\"SELECT law_cat_cd,age_group, count(age_group) FROM data_a GROUP BY law_cat_cd,age_group\",con=con)\n",
    "    elif change=='Bronx':\n",
    "        data=pd.read_sql(\"SELECT law_cat_cd,age_group, count(age_group) FROM data_a where arrest_boro=='Bronx' GROUP BY law_cat_cd,age_group\",con=con)\n",
    "    elif change=='Brooklyn':\n",
    "        data=pd.read_sql(\"SELECT law_cat_cd,age_group, count(age_group) FROM data_a where arrest_boro=='Brooklyn' GROUP BY law_cat_cd,age_group\",con=con)\n",
    "    elif change=='Manhattan':\n",
    "        data=pd.read_sql(\"SELECT law_cat_cd,age_group, count(age_group) FROM data_a where arrest_boro=='Manhattan' GROUP BY law_cat_cd,age_group\",con=con)\n",
    "    elif change=='Queens':\n",
    "        data=pd.read_sql(\"SELECT law_cat_cd,age_group, count(age_group) FROM data_a where arrest_boro=='Queens' GROUP BY law_cat_cd,age_group\",con=con)\n",
    "    elif change=='Staten_Island':\n",
    "        data=pd.read_sql(\"SELECT law_cat_cd,age_group, count(age_group) FROM data_a where arrest_boro=='Staten_Island' GROUP BY law_cat_cd,age_group\",con=con)\n",
    "    \n",
    "    cat_size_order = CategoricalDtype(\n",
    "    ['<18','18-24','25-44','45-64','65+'], \n",
    "    ordered=True\n",
    "    )\n",
    "    data['age_group'] = data['age_group'].astype(cat_size_order)\n",
    "    data.sort_values('age_group')\n",
    "    \n",
    "    return data\n",
    "\n",
    "def boro_map(change,axbig,map):\n",
    "    if change==ALL:\n",
    "        map.plot(\"area\", alpha=0.5, edgecolor='k',legend=False,ax=axbig)\n",
    "        point=geopandas.GeoDataFrame(new_data.arrest_boro,\n",
    "                                    geometry=geopandas.GeoSeries.from_wkt(new_data.geocoded_column))\n",
    "\n",
    "    elif change=='Bronx':\n",
    "        map[map.BoroCode==2].plot(\"area\", alpha=0.5, edgecolor='k',legend=False,ax=axbig)\n",
    "        point=geopandas.GeoDataFrame(new_data.arrest_boro[new_data.arrest_boro=='Bronx'],\n",
    "                                    geometry=geopandas.GeoSeries.from_wkt(new_data.geocoded_column))\n",
    "    elif change=='Brooklyn':\n",
    "        map[map.BoroCode==3].plot(\"area\", alpha=0.5, edgecolor='k',legend=False,ax=axbig)\n",
    "        point=geopandas.GeoDataFrame(new_data.arrest_boro[new_data.arrest_boro=='Brooklyn'],\n",
    "                                    geometry=geopandas.GeoSeries.from_wkt(new_data.geocoded_column))\n",
    "    elif change=='Manhattan':\n",
    "        map[map.BoroCode==1].plot(\"area\", alpha=0.5, edgecolor='k',legend=False,ax=axbig)\n",
    "        point=geopandas.GeoDataFrame(new_data.arrest_boro[new_data.arrest_boro=='Manhattan'],\n",
    "                                    geometry=geopandas.GeoSeries.from_wkt(new_data.geocoded_column))\n",
    "    elif change=='Queens':\n",
    "        map[map.BoroCode==4].plot(\"area\", alpha=0.5, edgecolor='k',legend=False,ax=axbig)\n",
    "        point=geopandas.GeoDataFrame(new_data.arrest_boro[new_data.arrest_boro=='Queens'],\n",
    "                                    geometry=geopandas.GeoSeries.from_wkt(new_data.geocoded_column))\n",
    "    elif change=='Staten Island':\n",
    "        map[map.BoroCode==5].plot(\"area\", alpha=0.5, edgecolor='k',legend=False,ax=axbig)\n",
    "        point=geopandas.GeoDataFrame(new_data.arrest_boro[new_data.arrest_boro=='Staten_Island'],\n",
    "                                    geometry=geopandas.GeoSeries.from_wkt(new_data.geocoded_column))\n",
    "    point.plot(ax=axbig,legend=False,alpha = 0.01)\n",
    "    \n",
    "    \n",
    "\n",
    "def draw_box(change):\n",
    "    fig, axes = plt.subplots(ncols=2, nrows=4,figsize=(16, 15),constrained_layout = True)\n",
    "     \n",
    "\n",
    "    #draw boro arrest time\n",
    "    sns.lineplot(ax=axes[0][0],x='arrest_date',y='count(arrest_date)',data= boro_date(change))\n",
    "    #draw boro ofns category\n",
    "    piechart,texts=axes[0][1].pie(boro_ofns(change)['count(ofns_desc)'])\n",
    "    ratio = 100.*boro_ofns(change)['count(ofns_desc)']/boro_ofns(change)['count(ofns_desc)'].sum()\n",
    "    labels = ['{0} - {1:1.2f} %'.format(i,j) for i,j in zip(boro_ofns(change)['ofns_desc'],ratio)]\n",
    "    sort_legend = True\n",
    "    if sort_legend:\n",
    "        piechart, labels, dummy =  zip(*sorted(zip(piechart, labels,boro_ofns(change)['count(ofns_desc)']),\n",
    "                                          key=lambda x: boro_ofns(change)['ofns_desc'][2],\n",
    "                                          reverse=True))\n",
    "    axes[0][1].legend(piechart, labels, loc='upper left', bbox_to_anchor=(0.95,1.025),fontsize=10)\n",
    "    #\n",
    "\n",
    "    sns.barplot(ax=axes[1][0],x='age_group',y=\"count(age_group)\", hue=\"perp_sex\",palette=\"pastel\", data=boro_sex(change))\n",
    "\n",
    "    #\n",
    "    sns.barplot(ax=axes[1][1],x='age_group',y=\"count(age_group)\", hue=\"perp_race\",palette=\"pastel\", data=boro_race(change))\n",
    "    axes[1][1].legend(bbox_to_anchor=(1.02, 1), loc='upper left', borderaxespad=0)\n",
    "\n",
    "    #\n",
    "\n",
    "    sns.barplot(ax=axes[2][0],x=\"count(age_group)\", y=\"age_group\", hue=\"law_cat_cd\",data=boro_age_law(change),palette=\"pastel\")\n",
    "    #\n",
    "    sns.barplot(ax=axes[3][0],x=\"count(perp_race)\", y=\"law_cat_cd\",hue=\"perp_race\",data=boro_race_law(change),palette=\"pastel\")\n",
    "    axes[2][1].legend(bbox_to_anchor=(1.02, 1), loc='upper left', borderaxespad=0)\n",
    "\n",
    "\n",
    "\n",
    "\n",
    "    \n",
    "    grid_subplot = axes[2,0].get_gridspec()\n",
    "    for ax in axes[-2:, -1]:\n",
    "        ax.remove()\n",
    "    axbig = fig.add_subplot(grid_subplot[-2:, -1])\n",
    "    \n",
    "    #    \n",
    "    path_to_data = geopandas.datasets.get_path(\"nybb\")\n",
    "    nyc_map = geopandas.read_file(path_to_data)\n",
    "    nyc_map=nyc_map.set_index(\"BoroName\")\n",
    "    nyc_map[\"area\"]=nyc_map.area\n",
    "    nyc_map =nyc_map.set_geometry(\"geometry\")\n",
    "    nyc_map_4326 = nyc_map.to_crs(\"EPSG:4326\")\n",
    "    boro_map(change,axbig,nyc_map_4326)\n",
    "    \n",
    "interact(draw_box,change=drop_boro)\n"
   ]
  },
  {
   "cell_type": "markdown",
   "metadata": {},
   "source": [
    "## Arrest Data Map Near Me"
   ]
  },
  {
   "cell_type": "code",
   "execution_count": 9,
   "metadata": {},
   "outputs": [],
   "source": [
    "import ipywidgets as widgets #Package for python widgets\n",
    "from ipyleaflet import Map,basemaps,Marker #Package enabling interactive maps in the Jupyter notebook\n",
    "from IPython.display import display"
   ]
  },
  {
   "cell_type": "code",
   "execution_count": 10,
   "metadata": {},
   "outputs": [],
   "source": [
    "# get my location\n",
    "import requests\n",
    "import json\n",
    "def display_ip():\n",
    "   ip_request = requests.get('https://get.geojs.io/v1/ip.json')\n",
    "   my_ip = ip_request.json()['ip']\n",
    "   geo_request = requests.get('https://get.geojs.io/v1/ip/geo/' +my_ip + '.json')\n",
    "   geo_data = geo_request.json()\n",
    "   return(geo_data['latitude'],geo_data['longitude'])\n",
    " \n",
    "location = display_ip()\n",
    "my_latitude = float(location[0])\n",
    "my_longitude = float(location[1])"
   ]
  },
  {
   "cell_type": "code",
   "execution_count": 11,
   "metadata": {},
   "outputs": [],
   "source": [
    "# location of NYU Stern Business School\n",
    "my_latitude = 40.728515\n",
    "my_longitude = -73.994781"
   ]
  },
  {
   "cell_type": "code",
   "execution_count": 12,
   "metadata": {},
   "outputs": [],
   "source": [
    "#Initialize a 2*2 grid layout\n",
    "# grid = widgets.GridspecLayout(2, 2, height='900px')\n",
    "\n",
    "#Initialize a Map\n",
    "center = [my_latitude, my_longitude]\n",
    "zoom = 16.1\n",
    "m = Map(basemap=basemaps.OpenStreetMap.Mapnik,center=center, zoom=zoom)\n",
    "\n",
    "#Initialize an output widget \n",
    "# result_point = widgets.Output()"
   ]
  },
  {
   "cell_type": "code",
   "execution_count": 13,
   "metadata": {},
   "outputs": [],
   "source": [
    "#Define the filtering function (from Karim's algorithm) \n",
    "def common_filtering(m):\n",
    "    #clear the previous selection output on each iteration\n",
    "#     result_point.clear_output()\n",
    "    \n",
    "    #clear the previous markers on the map\n",
    "    base_layer = m.layers[0]\n",
    "    m.clear_layers()\n",
    "    m.add_layer(base_layer)\n",
    "    \n",
    "    #----------------------------------------ALGORITHM STARTS HERE----------------------------------------#\n",
    "    #restaurant have multiple times they were test, keep only last grade\n",
    "    results_df = new_data\n",
    "\n",
    "    #calculate proximity: use absolute value delta of user's lat / long and the restaurant's; convert to miles where 1 degree = 68.703 miles\n",
    "    results_df[\"distance\"] = (abs(results_df['latitude'] - my_latitude) + abs(results_df['longitude'] - my_longitude)) * 68.703\n",
    "\n",
    "    #sort by total distance column, smallest at the top\n",
    "    results_df = results_df.sort_values([\"distance\"],ascending=[True])\n",
    "\n",
    "    #get the nearest 50 results to display\n",
    "    results_df = results_df.head(50)\n",
    "    \n",
    "    #----------------------------------------ALGORITHM ENDS HERE----------------------------------------#\n",
    "\n",
    "    for index, row in results_df.iterrows():        \n",
    "        center = (row['latitude'],row['longitude'])\n",
    "        marker = Marker(location = center, draggable = False, title = str(row['arrest_key']))\n",
    "        m.add_layer(marker)\n",
    "        \n",
    "    return(results_df)"
   ]
  },
  {
   "cell_type": "code",
   "execution_count": 14,
   "metadata": {},
   "outputs": [
    {
     "data": {
      "application/vnd.jupyter.widget-view+json": {
       "model_id": "5d2a2fbe81ec4c5a9e2bde588345aa79",
       "version_major": 2,
       "version_minor": 0
      },
      "text/plain": [
       "Map(center=[40.728515, -73.994781], controls=(ZoomControl(options=['position', 'zoom_in_text', 'zoom_in_title'…"
      ]
     },
     "metadata": {},
     "output_type": "display_data"
    }
   ],
   "source": [
    "#Filter the nearest point on map\n",
    "result = common_filtering(m)\n",
    "m"
   ]
  },
  {
   "cell_type": "code",
   "execution_count": 15,
   "metadata": {},
   "outputs": [
    {
     "data": {
      "text/plain": [
       "<AxesSubplot:xlabel='age_group', ylabel='counts'>"
      ]
     },
     "execution_count": 15,
     "metadata": {},
     "output_type": "execute_result"
    },
    {
     "data": {
      "image/png": "[encoded data removed]",
      "text/plain": [
       "<Figure size 720x576 with 1 Axes>"
      ]
     },
     "metadata": {},
     "output_type": "display_data"
    }
   ],
   "source": [
    "# statistic of the nearest 50 results\n",
    "sns.set(rc={'figure.figsize':(10,8)})\n",
    "sns.barplot(x='age_group',y=\"counts\", hue=\"perp_sex\",palette=\"pastel\", data=result.groupby(['perp_sex','age_group']).size().reset_index(name='counts'))"
   ]
  }
 ],
 "metadata": {
  "interpreter": {
   "hash": "aee8b7b246df8f9039afb4144a1f6fd8d2ca17a180786b69acc140d282b71a49"
  },
  "kernelspec": {
   "display_name": "Python 3 (ipykernel)",
   "language": "python",
   "name": "python3"
  },
  "language_info": {
   "codemirror_mode": {
    "name": "ipython",
    "version": 3
   },
   "file_extension": ".py",
   "mimetype": "text/x-python",
   "name": "python",
   "nbconvert_exporter": "python",
   "pygments_lexer": "ipython3",
   "version": "3.10.2"
  }
 },
 "nbformat": 4,
 "nbformat_minor": 2
}
